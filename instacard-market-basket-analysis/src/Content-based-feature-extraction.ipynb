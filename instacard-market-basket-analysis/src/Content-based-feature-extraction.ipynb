{
 "cells": [
  {
   "cell_type": "code",
   "execution_count": 1,
   "metadata": {
    "collapsed": true
   },
   "outputs": [],
   "source": [
    "#refer https://www.kaggle.com/waxbabi/light-gbm-benchmark-0-3692/code\n",
    "#implement basic content-based prediction"
   ]
  },
  {
   "cell_type": "code",
   "execution_count": 1,
   "metadata": {
    "collapsed": false
   },
   "outputs": [],
   "source": [
    "import pandas as pd\n",
    "import numpy as np\n",
    "from scipy import sparse"
   ]
  },
  {
   "cell_type": "code",
   "execution_count": 2,
   "metadata": {
    "collapsed": true
   },
   "outputs": [],
   "source": [
    "products = pd.read_csv('../csv/products.csv')"
   ]
  },
  {
   "cell_type": "code",
   "execution_count": 3,
   "metadata": {
    "collapsed": true
   },
   "outputs": [],
   "source": [
    "order_products_prior = pd.read_csv('../csv/order_products__prior.csv')"
   ]
  },
  {
   "cell_type": "code",
   "execution_count": 4,
   "metadata": {
    "collapsed": true
   },
   "outputs": [],
   "source": [
    "order_products_train = pd.read_csv('../csv/order_products__train.csv')"
   ]
  },
  {
   "cell_type": "code",
   "execution_count": 5,
   "metadata": {
    "collapsed": true
   },
   "outputs": [],
   "source": [
    "orders = pd.read_csv('../csv/orders.csv')"
   ]
  },
  {
   "cell_type": "code",
   "execution_count": 6,
   "metadata": {
    "collapsed": false
   },
   "outputs": [],
   "source": [
    "df = order_products_prior.set_index('order_id').join(orders.set_index('order_id'))"
   ]
  },
  {
   "cell_type": "code",
   "execution_count": 7,
   "metadata": {
    "collapsed": false
   },
   "outputs": [],
   "source": [
    "product_user = df.groupby(['product_id', 'user_id']).agg({'reordered': ['sum', 'count'], \n",
    "'order_number': ['mean'], 'days_since_prior_order': ['mean'], 'add_to_cart_order': ['mean']})\\\n",
    ".reset_index().set_index(['product_id', 'user_id']).add_prefix('pu')"
   ]
  },
  {
   "cell_type": "code",
   "execution_count": 8,
   "metadata": {
    "collapsed": false
   },
   "outputs": [],
   "source": [
    "pu = pd.DataFrame(df.groupby(['product_id', 'user_id']).size().rename('count')).reset_index()"
   ]
  },
  {
   "cell_type": "code",
   "execution_count": 9,
   "metadata": {
    "collapsed": false
   },
   "outputs": [],
   "source": [
    "truncted_product_user = pu.copy()\n",
    "truncted_product_user.loc[truncted_product_user['count'] > 10, 'count'] = 10"
   ]
  },
  {
   "cell_type": "code",
   "execution_count": 10,
   "metadata": {
    "collapsed": false
   },
   "outputs": [],
   "source": [
    "product_level = pd.pivot_table(truncted_product_user, index=['product_id'], columns=['count'], aggfunc=len, fill_value=0)\\\n",
    ".reset_index().set_index('product_id').add_prefix('plevel_')"
   ]
  },
  {
   "cell_type": "code",
   "execution_count": 11,
   "metadata": {
    "collapsed": false
   },
   "outputs": [],
   "source": [
    "user_level = pd.pivot_table(truncted_product_user, index=['user_id'], columns=['count'], aggfunc=len, fill_value=0)\\\n",
    ".reset_index().set_index('user_id').add_prefix('ulevel_')"
   ]
  },
  {
   "cell_type": "code",
   "execution_count": 12,
   "metadata": {
    "collapsed": false
   },
   "outputs": [],
   "source": [
    "product_v = df.reset_index().groupby('product_id').agg({'order_id': ['nunique'], 'user_id': ['nunique'], \n",
    "'reordered': ['sum', 'count'], 'add_to_cart_order': ['mean'], 'days_since_prior_order': ['mean']})\\\n",
    ".reset_index().set_index('product_id').add_prefix('p_')"
   ]
  },
  {
   "cell_type": "code",
   "execution_count": 13,
   "metadata": {
    "collapsed": false
   },
   "outputs": [],
   "source": [
    "user_v = df.reset_index().groupby('user_id').agg({'days_since_prior_order': ['mean'], 'order_id': ['nunique'], \n",
    "'product_id': ['nunique'], 'reordered': ['sum', 'count']})\\\n",
    ".reset_index().set_index('user_id').add_prefix('u_')"
   ]
  },
  {
   "cell_type": "code",
   "execution_count": 14,
   "metadata": {
    "collapsed": false
   },
   "outputs": [],
   "source": [
    "label = orders[orders.eval_set == 'train'].set_index('order_id')\\\n",
    ".join(order_products_train.set_index('order_id'))[['product_id', 'user_id']].set_index(['product_id', 'user_id'])\n",
    "label['label'] = 1"
   ]
  },
  {
   "cell_type": "code",
   "execution_count": null,
   "metadata": {
    "collapsed": true
   },
   "outputs": [],
   "source": []
  },
  {
   "cell_type": "code",
   "execution_count": null,
   "metadata": {
    "collapsed": true
   },
   "outputs": [],
   "source": [
    "train = orders[orders.eval_set == 'train'].set_index('user_id')\\\n",
    ".join(product_user.reset_index().set_index('user_id'))\\\n",
    ".rename(index=str, columns={('product_id', ''): 'product_id'})\\\n"
   ]
  },
  {
   "cell_type": "code",
   "execution_count": 32,
   "metadata": {
    "collapsed": false
   },
   "outputs": [],
   "source": [
    "train = orders[orders.eval_set == 'train'].set_index('user_id')\\\n",
    ".join(product_user.reset_index().set_index('user_id'))\\\n",
    ".rename(index=str, columns={('product_id', ''): 'product_id'})\\\n",
    ".reset_index().set_index(['product_id', 'user_id']).join(label)\\\n",
    ".reset_index().set_index('product_id').join(product_level).join(product_v)\\\n",
    ".join(products[['product_id', 'aisle_id', 'department_id']].set_index('product_id'))\\\n",
    ".reset_index().set_index('user_id').join(user_level).join(user_v)\\\n",
    ".reset_index().fillna(0)"
   ]
  },
  {
   "cell_type": "code",
   "execution_count": 33,
   "metadata": {
    "collapsed": false
   },
   "outputs": [],
   "source": [
    "train.to_csv('../data/train.data')"
   ]
  },
  {
   "cell_type": "code",
   "execution_count": 35,
   "metadata": {
    "collapsed": false
   },
   "outputs": [],
   "source": [
    "test = orders[orders.eval_set == 'test'].set_index('user_id')\\\n",
    ".join(product_user.reset_index().set_index('user_id'))\\\n",
    ".rename(index=str, columns={('product_id', ''): 'product_id'})\\\n",
    ".reset_index().set_index('product_id').join(product_level).join(product_v)\\\n",
    ".join(products[['product_id', 'aisle_id', 'department_id']].set_index('product_id'))\\\n",
    ".reset_index().set_index('user_id').join(user_level).join(user_v)\\\n",
    ".reset_index().fillna(0)"
   ]
  },
  {
   "cell_type": "code",
   "execution_count": 36,
   "metadata": {
    "collapsed": true
   },
   "outputs": [],
   "source": [
    "test.to_csv('../data/test.data')"
   ]
  },
  {
   "cell_type": "code",
   "execution_count": null,
   "metadata": {
    "collapsed": true
   },
   "outputs": [],
   "source": []
  }
 ],
 "metadata": {
  "anaconda-cloud": {},
  "kernelspec": {
   "display_name": "Python [conda root]",
   "language": "python",
   "name": "conda-root-py"
  },
  "language_info": {
   "codemirror_mode": {
    "name": "ipython",
    "version": 2
   },
   "file_extension": ".py",
   "mimetype": "text/x-python",
   "name": "python",
   "nbconvert_exporter": "python",
   "pygments_lexer": "ipython2",
   "version": "2.7.12"
  }
 },
 "nbformat": 4,
 "nbformat_minor": 1
}
