{
 "cells": [
  {
   "cell_type": "code",
   "execution_count": 1,
   "metadata": {
    "collapsed": true
   },
   "outputs": [],
   "source": [
    "#refer https://www.kaggle.com/waxbabi/light-gbm-benchmark-0-3692/code\n",
    "#implement basic content-based prediction"
   ]
  },
  {
   "cell_type": "code",
   "execution_count": 2,
   "metadata": {
    "collapsed": false
   },
   "outputs": [],
   "source": [
    "import pandas as pd\n",
    "import numpy as np\n",
    "from scipy import sparse\n",
    "import gensim\n",
    "import re"
   ]
  },
  {
   "cell_type": "code",
   "execution_count": 9,
   "metadata": {
    "collapsed": true
   },
   "outputs": [],
   "source": [
    "products = pd.read_csv('../csv/products.csv')"
   ]
  },
  {
   "cell_type": "code",
   "execution_count": 10,
   "metadata": {
    "collapsed": false
   },
   "outputs": [],
   "source": [
    "pnames = [re.sub(r'[^.0-9a-zA-Z]', ' ', line).lower().split() for line in products.product_name.astype(str).values]\n",
    "w2v = gensim.models.Word2Vec(pnames, size=10, window=5, workers=4, min_count=1)\n",
    "pname_vector = np.array([w2v.wv[pname].mean(axis=0) for pname in pnames])\n",
    "product_w2v = pd.DataFrame(pname_vector).add_prefix('w2v_')\n",
    "product_w2v['product_id'] = products['product_id']\n",
    "product_w2v.set_index('product_id', inplace=True)"
   ]
  },
  {
   "cell_type": "code",
   "execution_count": 11,
   "metadata": {
    "collapsed": true
   },
   "outputs": [],
   "source": [
    "order_products_prior = pd.read_csv('../csv/order_products__prior.csv')"
   ]
  },
  {
   "cell_type": "code",
   "execution_count": 12,
   "metadata": {
    "collapsed": true
   },
   "outputs": [],
   "source": [
    "order_products_train = pd.read_csv('../csv/order_products__train.csv')"
   ]
  },
  {
   "cell_type": "code",
   "execution_count": null,
   "metadata": {
    "collapsed": true
   },
   "outputs": [],
   "source": []
  },
  {
   "cell_type": "code",
   "execution_count": 41,
   "metadata": {
    "collapsed": true
   },
   "outputs": [],
   "source": [
    "product_detail = order_products_prior.set_index('product_id').join(products.set_index('product_id')).reset_index()"
   ]
  },
  {
   "cell_type": "code",
   "execution_count": 43,
   "metadata": {
    "collapsed": false
   },
   "outputs": [],
   "source": [
    "aisle = product_detail.groupby('aisle_id').agg({'reordered': ['sum', 'count']})\n",
    "aisle[('reordered', 'ratio')] = aisle[('reordered', 'sum')].div(aisle[('reordered', 'count')])\n",
    "aisle = aisle.add_prefix('aisle_').reset_index()"
   ]
  },
  {
   "cell_type": "code",
   "execution_count": 50,
   "metadata": {
    "collapsed": false
   },
   "outputs": [],
   "source": [
    "department = product_detail.groupby('department_id').agg({'reordered': ['sum', 'count']})\n",
    "department[('reordered', 'ratio')] = department[('reordered', 'sum')].div(department[('reordered', 'count')])\n",
    "department = department.add_prefix('department_').reset_index()"
   ]
  },
  {
   "cell_type": "code",
   "execution_count": 13,
   "metadata": {
    "collapsed": true
   },
   "outputs": [],
   "source": [
    "orders = pd.read_csv('../csv/orders.csv')"
   ]
  },
  {
   "cell_type": "code",
   "execution_count": 14,
   "metadata": {
    "collapsed": false
   },
   "outputs": [],
   "source": [
    "df = order_products_prior.set_index('order_id').join(orders.set_index('order_id'))"
   ]
  },
  {
   "cell_type": "code",
   "execution_count": 37,
   "metadata": {
    "collapsed": false
   },
   "outputs": [],
   "source": [
    "product_dow = pd.pivot_table(df[['product_id', 'order_dow']], index=['product_id'], columns=['order_dow'], aggfunc=len, fill_value=0)\\\n",
    ".add_prefix('pdow_').reset_index().set_index('product_id')"
   ]
  },
  {
   "cell_type": "code",
   "execution_count": 38,
   "metadata": {
    "collapsed": true
   },
   "outputs": [],
   "source": [
    "product_hod = pd.pivot_table(df[['product_id', 'order_hour_of_day']], index=['product_id'], columns=['order_hour_of_day'], aggfunc=len, fill_value=0)\\\n",
    ".add_prefix('phod_').reset_index().set_index('product_id')"
   ]
  },
  {
   "cell_type": "code",
   "execution_count": 21,
   "metadata": {
    "collapsed": false
   },
   "outputs": [],
   "source": [
    "product_user = df.groupby(['product_id', 'user_id']).agg({'reordered': ['sum', 'count'], \n",
    "'order_number': ['mean'], 'days_since_prior_order': ['mean'], 'add_to_cart_order': ['mean']})\\\n",
    ".reset_index().set_index(['product_id', 'user_id'])\n",
    "product_user[('reordered', 'ratio')] = product_user[('reordered', 'sum')].div(product_user[('reordered', 'count')])\n",
    "product_user = product_user.add_prefix('pu')"
   ]
  },
  {
   "cell_type": "code",
   "execution_count": 9,
   "metadata": {
    "collapsed": false
   },
   "outputs": [],
   "source": [
    "pu = pd.DataFrame(df.groupby(['product_id', 'user_id']).size().rename('count')).reset_index()"
   ]
  },
  {
   "cell_type": "code",
   "execution_count": 10,
   "metadata": {
    "collapsed": false
   },
   "outputs": [],
   "source": [
    "truncted_product_user = pu.copy()\n",
    "truncted_product_user.loc[truncted_product_user['count'] > 10, 'count'] = 10"
   ]
  },
  {
   "cell_type": "code",
   "execution_count": 11,
   "metadata": {
    "collapsed": false
   },
   "outputs": [],
   "source": [
    "product_level = pd.pivot_table(truncted_product_user, index=['product_id'], columns=['count'], aggfunc=len, fill_value=0)\\\n",
    ".reset_index().set_index('product_id').add_prefix('plevel_')"
   ]
  },
  {
   "cell_type": "code",
   "execution_count": 12,
   "metadata": {
    "collapsed": false
   },
   "outputs": [],
   "source": [
    "user_level = pd.pivot_table(truncted_product_user, index=['user_id'], columns=['count'], aggfunc=len, fill_value=0)\\\n",
    ".reset_index().set_index('user_id').add_prefix('ulevel_')"
   ]
  },
  {
   "cell_type": "code",
   "execution_count": 13,
   "metadata": {
    "collapsed": false
   },
   "outputs": [],
   "source": [
    "product_v = df.reset_index().groupby('product_id').agg({'order_id': ['nunique'], 'user_id': ['nunique'], \n",
    "'reordered': ['sum', 'count'], 'add_to_cart_order': ['mean'], 'days_since_prior_order': ['mean']})\\\n",
    ".reset_index().set_index('product_id')\n",
    "product_v[('reordered', 'ratio')] = product_v[('reordered', 'sum')].div(product_v[('reordered', 'count')])\n",
    "product_v = product_v.add_prefix('p_')"
   ]
  },
  {
   "cell_type": "code",
   "execution_count": 14,
   "metadata": {
    "collapsed": false
   },
   "outputs": [],
   "source": [
    "user_v = df.reset_index().groupby('user_id').agg({'days_since_prior_order': ['mean'], 'order_id': ['nunique'], \n",
    "'product_id': ['nunique'], 'reordered': ['sum', 'count']})\\\n",
    ".reset_index().set_index('user_id')\n",
    "user_v[('reordered', 'ratio')] = user_v[('reordered', 'sum')].div(user_v[('reordered', 'count')])\n",
    "user_v = user_v.add_prefix('u_')"
   ]
  },
  {
   "cell_type": "code",
   "execution_count": 15,
   "metadata": {
    "collapsed": false
   },
   "outputs": [],
   "source": [
    "label = orders[orders.eval_set == 'train'].set_index('order_id')\\\n",
    ".join(order_products_train.set_index('order_id'))[['product_id', 'user_id']].set_index(['product_id', 'user_id'])\n",
    "label['label'] = 1"
   ]
  },
  {
   "cell_type": "code",
   "execution_count": 16,
   "metadata": {
    "collapsed": false
   },
   "outputs": [
    {
     "name": "stderr",
     "output_type": "stream",
     "text": [
      "/home/zyc/anaconda2/lib/python2.7/site-packages/pandas/tools/merge.py:205: UserWarning: merging between different levels can give an unintended result (1 levels on the left, 2 on the right)\n",
      "  warnings.warn(msg, UserWarning)\n"
     ]
    }
   ],
   "source": [
    "train = orders[orders.eval_set == 'train'].set_index('user_id')\\\n",
    ".join(product_user.reset_index().set_index('user_id'))\\\n",
    ".rename(columns={('product_id', ''): 'product_id'})\\\n",
    ".reset_index().set_index(['product_id', 'user_id']).join(label)\\\n",
    ".reset_index().set_index('product_id').join(product_level).join(product_v)\\\n",
    ".join(products[['product_id', 'aisle_id', 'department_id']].set_index('product_id'))\\\n",
    ".reset_index().set_index('user_id').join(user_level).join(user_v)\\\n",
    ".reset_index().fillna(0)"
   ]
  },
  {
   "cell_type": "code",
   "execution_count": 17,
   "metadata": {
    "collapsed": false
   },
   "outputs": [],
   "source": [
    "train.to_csv('../data/train.data')"
   ]
  },
  {
   "cell_type": "code",
   "execution_count": 18,
   "metadata": {
    "collapsed": false
   },
   "outputs": [],
   "source": [
    "test = orders[orders.eval_set == 'test'].set_index('user_id')\\\n",
    ".join(product_user.reset_index().set_index('user_id'))\\\n",
    ".rename(columns={('product_id', ''): 'product_id'})\\\n",
    ".reset_index().set_index('product_id').join(product_level).join(product_v)\\\n",
    ".join(products[['product_id', 'aisle_id', 'department_id']].set_index('product_id'))\\\n",
    ".reset_index().set_index('user_id').join(user_level).join(user_v)\\\n",
    ".reset_index().fillna(0)"
   ]
  },
  {
   "cell_type": "code",
   "execution_count": 19,
   "metadata": {
    "collapsed": true
   },
   "outputs": [],
   "source": [
    "test.to_csv('../data/test.data')"
   ]
  },
  {
   "cell_type": "code",
   "execution_count": null,
   "metadata": {
    "collapsed": true
   },
   "outputs": [],
   "source": []
  }
 ],
 "metadata": {
  "anaconda-cloud": {},
  "kernelspec": {
   "display_name": "Python [conda root]",
   "language": "python",
   "name": "conda-root-py"
  },
  "language_info": {
   "codemirror_mode": {
    "name": "ipython",
    "version": 2
   },
   "file_extension": ".py",
   "mimetype": "text/x-python",
   "name": "python",
   "nbconvert_exporter": "python",
   "pygments_lexer": "ipython2",
   "version": "2.7.12"
  }
 },
 "nbformat": 4,
 "nbformat_minor": 1
}
