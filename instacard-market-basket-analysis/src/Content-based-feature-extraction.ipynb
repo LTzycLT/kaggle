{
 "cells": [
  {
   "cell_type": "markdown",
   "metadata": {
    "collapsed": true
   },
   "source": [
    " refer https://www.kaggle.com/waxbabi/light-gbm-benchmark-0-3692/code\n",
    "#implement basic content-based prediction"
   ]
  },
  {
   "cell_type": "code",
   "execution_count": 3,
   "metadata": {
    "collapsed": false
   },
   "outputs": [],
   "source": [
    "\"\"\"\n",
    "products_seq = order_products_prior.groupby(\"order_id\").apply(lambda order: order['product_id'].tolist()).values\n",
    "sentences = [[str(p) for p in ps] for ps in products_seq]\n",
    "w2v = gensim.models.Word2Vec(sentences, size=5, window=5, min_count=2, workers=4)\n",
    "product_w2v_raw = []\n",
    "for k in w2v.wv.vocab.keys():\n",
    "    l = w2v.wv[k].tolist()\n",
    "    l.append(int(k))\n",
    "    product_w2v_raw.append(l)\n",
    "product_w2v = pd.DataFrame(product_w2v_raw, columns=['w2v_0', 'w2v_1', 'w2v_2', 'w2v_3', 'w2v_4', 'product_id']).set_index('product_id')\n",
    "\"\"\"\n",
    "\"\"\"\n",
    "pnames = [re.sub(r'[^.0-9a-zA-Z]', ' ', line).lower().split() for line in products.product_name.astype(str).values]\n",
    "w2v = gensim.models.Word2Vec(pnames, size=10, window=5, workers=4, min_count=1)\n",
    "pname_vector = np.array([w2v.wv[pname].mean(axis=0) for pname in pnames])\n",
    "product_w2v = pd.DataFrame(pname_vector).add_prefix('w2v_')\n",
    "product_w2v['product_id'] = products['product_id']\n",
    "product_w2v.set_index('product_id', inplace=True)\n",
    "\"\"\"\n",
    "\"\"\"\n",
    "temp = pd.pivot_table(df[['product_id', 'order_dow']], index=['product_id'], columns=['order_dow'], aggfunc=len, fill_value=0)\n",
    "product_dow = temp.div(temp.sum(axis=1), axis=0).add_prefix('pdow_').reset_index().set_index('product_id')\n",
    "\"\"\"\n",
    "\"\"\"\n",
    "temp = pd.pivot_table(df[['product_id', 'order_hour_of_day']], index=['product_id'], columns=['order_hour_of_day'], aggfunc=len, fill_value=0)\n",
    "product_hod = temp.div(temp.sum(axis=1), axis=0).add_prefix('phod_').reset_index().set_index('product_id')\n",
    "\"\"\""
   ]
  },
  {
   "cell_type": "code",
   "execution_count": 10,
   "metadata": {
    "collapsed": false
   },
   "outputs": [],
   "source": [
    "\"\"\"\n",
    "from collections import defaultdict\n",
    "\n",
    "def trend(df):\n",
    "    user_max_order_number = defaultdict(int)\n",
    "    user_product_history = defaultdict(list)\n",
    "    for i, (u, p, n) in enumerate(zip(df['user_id'], df['product_id'], df['order_number'])):\n",
    "        user_max_order_number[u] = max(user_max_order_number[u], n)\n",
    "        user_product_history[(u, p)].append(n)\n",
    "    temp = []\n",
    "    for cnt, (k, v) in enumerate(user_product_history.iteritems()):\n",
    "        user_id = k[0]\n",
    "        product_id = k[1]\n",
    "        max_order_number = user_max_order_number[user_id]\n",
    "        r = [0, 0, 0, 0, 0]\n",
    "        for vv in v:\n",
    "            if max_order_number - vv <= 0: r[0] += 1\n",
    "            if max_order_number - vv <= 1: r[1] += 1\n",
    "            if max_order_number - vv <= 2: r[2] += 1\n",
    "            if max_order_number - vv <= 5: r[3] += 1\n",
    "            if max_order_number - vv <= 10: r[4] += 1\n",
    "        r.append(user_id)\n",
    "        r.append(product_id)\n",
    "        temp.append(r)\n",
    "    return pd.DataFrame(temp).rename(columns={5: 'user_id', 6: 'product_id'}).set_index(['product_id', 'user_id']).add_prefix('putrends_')\n",
    "\"\"\""
   ]
  },
  {
   "cell_type": "code",
   "execution_count": 1,
   "metadata": {
    "collapsed": false
   },
   "outputs": [],
   "source": [
    "import pandas as pd\n",
    "import numpy as np\n",
    "from scipy import sparse\n",
    "import gensim\n",
    "import re"
   ]
  },
  {
   "cell_type": "code",
   "execution_count": 2,
   "metadata": {
    "collapsed": true
   },
   "outputs": [],
   "source": [
    "orders = pd.read_csv('../csv/orders.csv')"
   ]
  },
  {
   "cell_type": "code",
   "execution_count": 2,
   "metadata": {
    "collapsed": true
   },
   "outputs": [],
   "source": [
    "products = pd.read_csv('../csv/products.csv')"
   ]
  },
  {
   "cell_type": "code",
   "execution_count": 3,
   "metadata": {
    "collapsed": true
   },
   "outputs": [],
   "source": [
    "order_products_prior = pd.read_csv('../csv/order_products__prior.csv')"
   ]
  },
  {
   "cell_type": "code",
   "execution_count": 4,
   "metadata": {
    "collapsed": true
   },
   "outputs": [],
   "source": [
    "order_products_train = pd.read_csv('../csv/order_products__train.csv')"
   ]
  },
  {
   "cell_type": "code",
   "execution_count": 5,
   "metadata": {
    "collapsed": true
   },
   "outputs": [],
   "source": [
    "product_detail = order_products_prior.set_index('product_id').join(products.set_index('product_id')).reset_index()"
   ]
  },
  {
   "cell_type": "code",
   "execution_count": 6,
   "metadata": {
    "collapsed": false
   },
   "outputs": [],
   "source": [
    "aisle = product_detail.groupby('aisle_id').agg({'reordered': ['sum', 'count']})\n",
    "aisle[('reordered', 'ratio')] = aisle[('reordered', 'sum')].div(aisle[('reordered', 'count')])\n",
    "aisle = aisle.add_prefix('aisle_').reset_index().set_index('aisle_id')"
   ]
  },
  {
   "cell_type": "code",
   "execution_count": 7,
   "metadata": {
    "collapsed": false
   },
   "outputs": [],
   "source": [
    "department = product_detail.groupby('department_id').agg({'reordered': ['sum', 'count']})\n",
    "department[('reordered', 'ratio')] = department[('reordered', 'sum')].div(department[('reordered', 'count')])\n",
    "department = department.add_prefix('department_').reset_index().set_index('department_id')"
   ]
  },
  {
   "cell_type": "code",
   "execution_count": 9,
   "metadata": {
    "collapsed": false
   },
   "outputs": [],
   "source": [
    "df = order_products_prior.set_index('order_id').join(orders.set_index('order_id'))"
   ]
  },
  {
   "cell_type": "code",
   "execution_count": 10,
   "metadata": {
    "collapsed": false
   },
   "outputs": [],
   "source": [
    "product_user = df.groupby(['product_id', 'user_id']).agg({'reordered': ['sum', 'count'], \n",
    "'order_number': ['mean', 'min', 'max'], 'days_since_prior_order': ['mean'], 'add_to_cart_order': ['mean']})\\\n",
    ".reset_index().set_index(['product_id', 'user_id'])\n",
    "product_user[('reordered', 'ratio')] = product_user[('reordered', 'sum')].div(product_user[('reordered', 'count')])\n",
    "product_user = product_user.add_prefix('pu')"
   ]
  },
  {
   "cell_type": "code",
   "execution_count": 11,
   "metadata": {
    "collapsed": false
   },
   "outputs": [],
   "source": [
    "pu = pd.DataFrame(df.groupby(['product_id', 'user_id']).size().rename('count')).reset_index()"
   ]
  },
  {
   "cell_type": "code",
   "execution_count": 12,
   "metadata": {
    "collapsed": false
   },
   "outputs": [],
   "source": [
    "truncted_product_user = pu.copy()\n",
    "truncted_product_user.loc[truncted_product_user['count'] > 2, 'count'] = 2"
   ]
  },
  {
   "cell_type": "code",
   "execution_count": 13,
   "metadata": {
    "collapsed": false
   },
   "outputs": [],
   "source": [
    "product_level = pd.pivot_table(truncted_product_user, index=['product_id'], columns=['count'], aggfunc=len, fill_value=0)\\\n",
    ".reset_index().set_index('product_id')\n",
    "product_level[('user_id', 'ratio')] = product_level[('user_id', 2)].div(product_level[('user_id', 1)])\n",
    "product_level = product_level.add_prefix('plevel_')"
   ]
  },
  {
   "cell_type": "code",
   "execution_count": 14,
   "metadata": {
    "collapsed": false
   },
   "outputs": [],
   "source": [
    "user_level = pd.pivot_table(truncted_product_user, index=['user_id'], columns=['count'], aggfunc=len, fill_value=0)\\\n",
    ".reset_index().set_index('user_id').add_prefix('ulevel_')"
   ]
  },
  {
   "cell_type": "code",
   "execution_count": 15,
   "metadata": {
    "collapsed": false
   },
   "outputs": [],
   "source": [
    "product_v = df.reset_index().groupby('product_id').agg({'order_id': ['nunique'], 'user_id': ['nunique'], \n",
    "'reordered': ['sum', 'count'], 'add_to_cart_order': ['mean'], 'days_since_prior_order': ['mean']})\\\n",
    ".reset_index().set_index('product_id')\n",
    "product_v[('reordered', 'ratio')] = product_v[('reordered', 'sum')].div(product_v[('reordered', 'count')])\n",
    "product_v = product_v.add_prefix('p_')"
   ]
  },
  {
   "cell_type": "code",
   "execution_count": 16,
   "metadata": {
    "collapsed": false
   },
   "outputs": [],
   "source": [
    "user_v = df.reset_index().groupby('user_id').agg({'days_since_prior_order': ['mean', 'sum'], 'order_id': ['nunique'], \n",
    "'product_id': ['nunique'], 'reordered': ['sum', 'count']})\\\n",
    ".reset_index().set_index('user_id')\n",
    "user_v[('reordered', 'ratio')] = user_v[('reordered', 'sum')].div(user_v[('reordered', 'count')])\n",
    "user_v = user_v.add_prefix('u_')"
   ]
  },
  {
   "cell_type": "code",
   "execution_count": 17,
   "metadata": {
    "collapsed": false
   },
   "outputs": [],
   "source": [
    "user_order = df.groupby(['user_id', 'order_number']).agg({'add_to_cart_order': 'max'})\\\n",
    ".reset_index().groupby(['user_id']).agg({'add_to_cart_order': ['max', 'min', 'mean']}).add_prefix('uo_')"
   ]
  },
  {
   "cell_type": "code",
   "execution_count": 19,
   "metadata": {
    "collapsed": false
   },
   "outputs": [],
   "source": [
    "product_embeddings = pd.read_csv('product_embeddings.csv')\n",
    "embedings = list(str(i) for i in range(32))\n",
    "product_embeddings = product_embeddings[embedings + ['product_id']].set_index('product_id').add_prefix('pe_')"
   ]
  },
  {
   "cell_type": "code",
   "execution_count": 21,
   "metadata": {
    "collapsed": true
   },
   "outputs": [],
   "source": [
    "#product_user\n",
    "#product_v, product_level, product_w2v, aisle, department, product_dow, product_hod\n",
    "#user_level, user_v\n",
    "#label"
   ]
  },
  {
   "cell_type": "code",
   "execution_count": 20,
   "metadata": {
    "collapsed": false
   },
   "outputs": [
    {
     "name": "stderr",
     "output_type": "stream",
     "text": [
      "/home/zyc/anaconda2/lib/python2.7/site-packages/pandas/tools/merge.py:205: UserWarning: merging between different levels can give an unintended result (1 levels on the left, 2 on the right)\n",
      "  warnings.warn(msg, UserWarning)\n"
     ]
    }
   ],
   "source": [
    "product_all = products.set_index('product_id').join(product_v).join(product_level).join(product_embeddings)\\\n",
    ".reset_index().set_index('aisle_id').join(aisle)\\\n",
    ".reset_index().set_index('department_id').join(department)\\\n",
    ".reset_index().set_index('product_id')\\\n",
    ".drop(['product_name', 'aisle_id', 'department_id'], axis=1)\n",
    "product_all['p_avg_reordered_times'] = product_all[('p_reordered', 'p_sum')].div(product_all[('plevel_user_id', 'plevel_2')])\n",
    "#.join(product_dow).join(product_hod)\\\n",
    "#.join(product_w2v)"
   ]
  },
  {
   "cell_type": "code",
   "execution_count": 21,
   "metadata": {
    "collapsed": true
   },
   "outputs": [],
   "source": [
    "user_all = user_v.join(user_level).join(user_order)"
   ]
  },
  {
   "cell_type": "code",
   "execution_count": null,
   "metadata": {
    "collapsed": true
   },
   "outputs": [],
   "source": []
  },
  {
   "cell_type": "code",
   "execution_count": 28,
   "metadata": {
    "collapsed": true
   },
   "outputs": [],
   "source": [
    "product_user.to_pickle('product_user.pkl')\n",
    "user_all.to_pickle('user_all.pickle')\n",
    "product_all.to_pickle('product_all.pickle')"
   ]
  },
  {
   "cell_type": "code",
   "execution_count": 3,
   "metadata": {
    "collapsed": false
   },
   "outputs": [],
   "source": [
    "product_user = pd.read_pickle('product_user.pkl')\n",
    "pu_trend = pd.read_pickle('pu_trend.pkl')\n",
    "user_all = pd.read_pickle('user_all.pickle')\n",
    "product_all = pd.read_pickle('product_all.pickle')"
   ]
  },
  {
   "cell_type": "code",
   "execution_count": null,
   "metadata": {
    "collapsed": true
   },
   "outputs": [],
   "source": []
  },
  {
   "cell_type": "code",
   "execution_count": 4,
   "metadata": {
    "collapsed": false
   },
   "outputs": [
    {
     "name": "stderr",
     "output_type": "stream",
     "text": [
      "/home/zyc/anaconda2/lib/python2.7/site-packages/pandas/tools/merge.py:205: UserWarning: merging between different levels can give an unintended result (2 levels on the left, 1 on the right)\n",
      "  warnings.warn(msg, UserWarning)\n",
      "/home/zyc/anaconda2/lib/python2.7/site-packages/pandas/tools/merge.py:205: UserWarning: merging between different levels can give an unintended result (1 levels on the left, 2 on the right)\n",
      "  warnings.warn(msg, UserWarning)\n"
     ]
    }
   ],
   "source": [
    "data = product_user.join(pu_trend).reset_index().set_index('user_id').join(user_all)\\\n",
    ".reset_index().set_index('product_id').join(product_all).reset_index()\\\n",
    ".rename(columns={('user_id', ''): 'user_id'})\n",
    "data['pu_avg_bought'] = data[(u'pureordered', u'pucount')].div(data[('u_order_id', 'u_nunique')])\n",
    "data['pu_last_bought_gap'] = data[('u_order_id', 'u_nunique')] - data[('puorder_number', 'pumax')]\n",
    "data['pu_avg_bought_since_first'] = data[('pureordered', 'pucount')].div(data[('u_order_id', 'u_nunique')] - data[('puorder_number', 'pumin')] )"
   ]
  },
  {
   "cell_type": "code",
   "execution_count": 10,
   "metadata": {
    "collapsed": true
   },
   "outputs": [],
   "source": [
    "\"\"\"\n",
    "label = orders[orders.eval_set == 'train'].set_index('order_id')\\\n",
    ".join(order_products_train.set_index('order_id'))[['product_id', 'user_id']].set_index(['product_id', 'user_id'])\n",
    "label['label'] = 1\n",
    "label.to_pickle('label.pkl')\n",
    "\"\"\"\n",
    "label = pd.read_pickle('label.pkl')"
   ]
  },
  {
   "cell_type": "code",
   "execution_count": 11,
   "metadata": {
    "collapsed": false
   },
   "outputs": [],
   "source": [
    "train = orders[orders.eval_set == 'train'].set_index('user_id')\\\n",
    ".join(data.reset_index().set_index('user_id'))\\\n",
    ".reset_index().set_index(['product_id', 'user_id']).join(label)\\\n",
    ".reset_index().fillna(0)"
   ]
  },
  {
   "cell_type": "code",
   "execution_count": 13,
   "metadata": {
    "collapsed": false
   },
   "outputs": [
    {
     "ename": "KeyboardInterrupt",
     "evalue": "",
     "output_type": "error",
     "traceback": [
      "\u001b[0;31m---------------------------------------------------------------------------\u001b[0m",
      "\u001b[0;31mKeyboardInterrupt\u001b[0m                         Traceback (most recent call last)",
      "\u001b[0;32m<ipython-input-13-cf71f846f1c8>\u001b[0m in \u001b[0;36m<module>\u001b[0;34m()\u001b[0m\n\u001b[1;32m      1\u001b[0m \u001b[0;31m#train.to_pickle('../data/train.pkl')\u001b[0m\u001b[0;34m\u001b[0m\u001b[0;34m\u001b[0m\u001b[0m\n\u001b[0;32m----> 2\u001b[0;31m \u001b[0mtrain\u001b[0m\u001b[0;34m.\u001b[0m\u001b[0mto_csv\u001b[0m\u001b[0;34m(\u001b[0m\u001b[0;34m'../data/train.csv'\u001b[0m\u001b[0;34m,\u001b[0m \u001b[0mfloat_format\u001b[0m\u001b[0;34m=\u001b[0m\u001b[0;34m'%.4f'\u001b[0m\u001b[0;34m)\u001b[0m\u001b[0;34m\u001b[0m\u001b[0m\n\u001b[0m",
      "\u001b[0;32m/home/zyc/anaconda2/lib/python2.7/site-packages/pandas/core/frame.pyc\u001b[0m in \u001b[0;36mto_csv\u001b[0;34m(self, path_or_buf, sep, na_rep, float_format, columns, header, index, index_label, mode, encoding, compression, quoting, quotechar, line_terminator, chunksize, tupleize_cols, date_format, doublequote, escapechar, decimal, **kwds)\u001b[0m\n\u001b[1;32m   1342\u001b[0m                                      \u001b[0mdoublequote\u001b[0m\u001b[0;34m=\u001b[0m\u001b[0mdoublequote\u001b[0m\u001b[0;34m,\u001b[0m\u001b[0;34m\u001b[0m\u001b[0m\n\u001b[1;32m   1343\u001b[0m                                      escapechar=escapechar, decimal=decimal)\n\u001b[0;32m-> 1344\u001b[0;31m         \u001b[0mformatter\u001b[0m\u001b[0;34m.\u001b[0m\u001b[0msave\u001b[0m\u001b[0;34m(\u001b[0m\u001b[0;34m)\u001b[0m\u001b[0;34m\u001b[0m\u001b[0m\n\u001b[0m\u001b[1;32m   1345\u001b[0m \u001b[0;34m\u001b[0m\u001b[0m\n\u001b[1;32m   1346\u001b[0m         \u001b[0;32mif\u001b[0m \u001b[0mpath_or_buf\u001b[0m \u001b[0;32mis\u001b[0m \u001b[0mNone\u001b[0m\u001b[0;34m:\u001b[0m\u001b[0;34m\u001b[0m\u001b[0m\n",
      "\u001b[0;32m/home/zyc/anaconda2/lib/python2.7/site-packages/pandas/formats/format.pyc\u001b[0m in \u001b[0;36msave\u001b[0;34m(self)\u001b[0m\n\u001b[1;32m   1549\u001b[0m \u001b[0;34m\u001b[0m\u001b[0m\n\u001b[1;32m   1550\u001b[0m             \u001b[0;32melse\u001b[0m\u001b[0;34m:\u001b[0m\u001b[0;34m\u001b[0m\u001b[0m\n\u001b[0;32m-> 1551\u001b[0;31m                 \u001b[0mself\u001b[0m\u001b[0;34m.\u001b[0m\u001b[0m_save\u001b[0m\u001b[0;34m(\u001b[0m\u001b[0;34m)\u001b[0m\u001b[0;34m\u001b[0m\u001b[0m\n\u001b[0m\u001b[1;32m   1552\u001b[0m \u001b[0;34m\u001b[0m\u001b[0m\n\u001b[1;32m   1553\u001b[0m         \u001b[0;32mfinally\u001b[0m\u001b[0;34m:\u001b[0m\u001b[0;34m\u001b[0m\u001b[0m\n",
      "\u001b[0;32m/home/zyc/anaconda2/lib/python2.7/site-packages/pandas/formats/format.pyc\u001b[0m in \u001b[0;36m_save\u001b[0;34m(self)\u001b[0m\n\u001b[1;32m   1650\u001b[0m                 \u001b[0;32mbreak\u001b[0m\u001b[0;34m\u001b[0m\u001b[0m\n\u001b[1;32m   1651\u001b[0m \u001b[0;34m\u001b[0m\u001b[0m\n\u001b[0;32m-> 1652\u001b[0;31m             \u001b[0mself\u001b[0m\u001b[0;34m.\u001b[0m\u001b[0m_save_chunk\u001b[0m\u001b[0;34m(\u001b[0m\u001b[0mstart_i\u001b[0m\u001b[0;34m,\u001b[0m \u001b[0mend_i\u001b[0m\u001b[0;34m)\u001b[0m\u001b[0;34m\u001b[0m\u001b[0m\n\u001b[0m\u001b[1;32m   1653\u001b[0m \u001b[0;34m\u001b[0m\u001b[0m\n\u001b[1;32m   1654\u001b[0m     \u001b[0;32mdef\u001b[0m \u001b[0m_save_chunk\u001b[0m\u001b[0;34m(\u001b[0m\u001b[0mself\u001b[0m\u001b[0;34m,\u001b[0m \u001b[0mstart_i\u001b[0m\u001b[0;34m,\u001b[0m \u001b[0mend_i\u001b[0m\u001b[0;34m)\u001b[0m\u001b[0;34m:\u001b[0m\u001b[0;34m\u001b[0m\u001b[0m\n",
      "\u001b[0;32m/home/zyc/anaconda2/lib/python2.7/site-packages/pandas/formats/format.pyc\u001b[0m in \u001b[0;36m_save_chunk\u001b[0;34m(self, start_i, end_i)\u001b[0m\n\u001b[1;32m   1676\u001b[0m                                         quoting=self.quoting)\n\u001b[1;32m   1677\u001b[0m \u001b[0;34m\u001b[0m\u001b[0m\n\u001b[0;32m-> 1678\u001b[0;31m         \u001b[0mlib\u001b[0m\u001b[0;34m.\u001b[0m\u001b[0mwrite_csv_rows\u001b[0m\u001b[0;34m(\u001b[0m\u001b[0mself\u001b[0m\u001b[0;34m.\u001b[0m\u001b[0mdata\u001b[0m\u001b[0;34m,\u001b[0m \u001b[0mix\u001b[0m\u001b[0;34m,\u001b[0m \u001b[0mself\u001b[0m\u001b[0;34m.\u001b[0m\u001b[0mnlevels\u001b[0m\u001b[0;34m,\u001b[0m \u001b[0mself\u001b[0m\u001b[0;34m.\u001b[0m\u001b[0mcols\u001b[0m\u001b[0;34m,\u001b[0m \u001b[0mself\u001b[0m\u001b[0;34m.\u001b[0m\u001b[0mwriter\u001b[0m\u001b[0;34m)\u001b[0m\u001b[0;34m\u001b[0m\u001b[0m\n\u001b[0m\u001b[1;32m   1679\u001b[0m \u001b[0;34m\u001b[0m\u001b[0m\n\u001b[1;32m   1680\u001b[0m \u001b[0;31m# from collections import namedtuple\u001b[0m\u001b[0;34m\u001b[0m\u001b[0;34m\u001b[0m\u001b[0m\n",
      "\u001b[0;31mKeyboardInterrupt\u001b[0m: "
     ]
    }
   ],
   "source": [
    "#train.to_pickle('../data/train.pkl')\n",
    "train.to_csv('../data/train.csv', float_format='%.4f')"
   ]
  },
  {
   "cell_type": "code",
   "execution_count": 27,
   "metadata": {
    "collapsed": true
   },
   "outputs": [],
   "source": [
    "orders[orders.eval_set == 'test'].set_index('user_id')\\\n",
    ".join(data.reset_index().set_index('user_id'))\\\n",
    ".reset_index().fillna(0)\\\n",
    ".to_csv('../data/test.data')"
   ]
  },
  {
   "cell_type": "code",
   "execution_count": null,
   "metadata": {
    "collapsed": true
   },
   "outputs": [],
   "source": []
  }
 ],
 "metadata": {
  "anaconda-cloud": {},
  "kernelspec": {
   "display_name": "Python [conda root]",
   "language": "python",
   "name": "conda-root-py"
  },
  "language_info": {
   "codemirror_mode": {
    "name": "ipython",
    "version": 2
   },
   "file_extension": ".py",
   "mimetype": "text/x-python",
   "name": "python",
   "nbconvert_exporter": "python",
   "pygments_lexer": "ipython2",
   "version": "2.7.12"
  }
 },
 "nbformat": 4,
 "nbformat_minor": 1
}
