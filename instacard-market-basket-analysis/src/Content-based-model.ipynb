{
 "cells": [
  {
   "cell_type": "code",
   "execution_count": 1,
   "metadata": {
    "collapsed": true
   },
   "outputs": [],
   "source": [
    "import pandas as pd\n",
    "import numpy as np\n",
    "from scipy import sparse\n",
    "import time"
   ]
  },
  {
   "cell_type": "code",
   "execution_count": 7,
   "metadata": {
    "collapsed": false
   },
   "outputs": [],
   "source": [
    "from lightgbm import LGBMClassifier\n",
    "import lightgbm as lgb\n",
    "import xgboost as xgb\n",
    "from xgboost import XGBClassifier\n",
    "from sklearn.model_selection import GroupKFold\n",
    "from sklearn.metrics import f1_score, roc_auc_score\n",
    "group_kfold = GroupKFold(n_splits=5)"
   ]
  },
  {
   "cell_type": "code",
   "execution_count": 3,
   "metadata": {
    "collapsed": true
   },
   "outputs": [],
   "source": [
    "def get_input(path, label=True):\n",
    "    df = pd.read_csv(path)\n",
    "    if label:\n",
    "        df_X = df.drop(['user_id', 'eval_set', 'product_id', 'label'], 1)\n",
    "        columns = df_X.columns\n",
    "        return df_X.astype(float).values, df['label'], df['user_id'], df['product_id'], columns\n",
    "    else:\n",
    "        return df.drop(['user_id', 'eval_set', 'product_id'], 1).astype(float).values, df['user_id'], df['product_id']"
   ]
  },
  {
   "cell_type": "code",
   "execution_count": 4,
   "metadata": {
    "collapsed": false
   },
   "outputs": [],
   "source": [
    "X, y, user_ids, product_ids, columns = get_input('../data/train.data')"
   ]
  },
  {
   "cell_type": "code",
   "execution_count": 5,
   "metadata": {
    "collapsed": true
   },
   "outputs": [],
   "source": [
    "for train_index, val_index in group_kfold.split(X, y, user_ids.values):\n",
    "    break\n",
    "X_train, y_train = X[train_index], y[train_index]\n",
    "X_val, y_val = X[val_index], y[val_index]"
   ]
  },
  {
   "cell_type": "code",
   "execution_count": 6,
   "metadata": {
    "collapsed": false
   },
   "outputs": [
    {
     "data": {
      "text/plain": [
       "\"\\nd_train = lgb.Dataset(X, y)\\nparams = {\\n        'task': 'train',\\n        'boosting_type': 'gbdt',\\n        'objective': 'binary',\\n        'metric': {'binary_logloss'},\\n        'num_leaves': 96,\\n        'feature_fraction': 0.9,\\n        'bagging_fraction': 0.95,\\n        'bagging_freq': 5\\n    }\\nbst = lgb.train(params, d_train, 100)\\nbst.feature_importance()\\n\""
      ]
     },
     "execution_count": 6,
     "metadata": {},
     "output_type": "execute_result"
    }
   ],
   "source": [
    "\"\"\"\n",
    "d_train = lgb.Dataset(X, y)\n",
    "params = {\n",
    "        'task': 'train',\n",
    "        'boosting_type': 'gbdt',\n",
    "        'objective': 'binary',\n",
    "        'metric': {'binary_logloss'},\n",
    "        'num_leaves': 96,\n",
    "        'feature_fraction': 0.9,\n",
    "        'bagging_fraction': 0.95,\n",
    "        'bagging_freq': 5\n",
    "    }\n",
    "bst = lgb.train(params, d_train, 100)\n",
    "bst.feature_importance()\n",
    "\"\"\""
   ]
  },
  {
   "cell_type": "code",
   "execution_count": 8,
   "metadata": {
    "collapsed": false
   },
   "outputs": [
    {
     "data": {
      "text/plain": [
       "XGBClassifier(base_score=0.5, colsample_bylevel=1, colsample_bytree=1,\n",
       "       gamma=0, learning_rate=0.1, max_delta_step=0, max_depth=3,\n",
       "       min_child_weight=1, missing=None, n_estimators=100, nthread=-1,\n",
       "       objective='binary:logistic', reg_alpha=0, reg_lambda=1,\n",
       "       scale_pos_weight=1, seed=0, silent=True, subsample=1)"
      ]
     },
     "execution_count": 8,
     "metadata": {},
     "output_type": "execute_result"
    }
   ],
   "source": [
    "#m = LGBMClassifier()\n",
    "m = XGBClassifier()\n",
    "m.fit(X_train, y_train)"
   ]
  },
  {
   "cell_type": "code",
   "execution_count": 9,
   "metadata": {
    "collapsed": false
   },
   "outputs": [],
   "source": [
    "#for f, importance in zip(columns, m.feature_importances_):\n",
    "#    print('%s\\t%s' % (f, importance))"
   ]
  },
  {
   "cell_type": "code",
   "execution_count": 15,
   "metadata": {
    "collapsed": false
   },
   "outputs": [],
   "source": [
    "y_train_pred_prob = m.predict_proba(X_train)[:, 1]\n",
    "y_val_pred_prob = m.predict_proba(X_val)[:, 1]"
   ]
  },
  {
   "cell_type": "code",
   "execution_count": 12,
   "metadata": {
    "collapsed": true
   },
   "outputs": [],
   "source": [
    "from collections import defaultdict\n",
    "def choose(r):\n",
    "    max_score, j  = -1, -1\n",
    "    r.sort(key=lambda o: o[1], reverse=True)\n",
    "    probs =  np.array([rr[1] for rr in r])\n",
    "    product_ids =  np.array([rr[2] for rr in r])\n",
    "    \n",
    "    prob_sum = probs.sum()\n",
    "    tp = 0\n",
    "    for i in range(len(r) + 1):\n",
    "        score = f1_predict(tp, i, prob_sum)\n",
    "        if score > max_score:\n",
    "            max_score = score\n",
    "            j = i\n",
    "        if i < len(r): tp += probs[i]\n",
    "    return product_ids[:j]\n",
    "def f1_predict(tp, k, prob_sum):\n",
    "    if tp == 0: return 0\n",
    "    precision = tp / k\n",
    "    recall = tp / prob_sum\n",
    "    return 2 * precision * recall / (precision + recall)\n",
    "def f1(a, b):\n",
    "    a, b = set(a), set(b)\n",
    "    tp = len(a.intersection(b)) * 1.0\n",
    "    if tp == 0: return 0\n",
    "    precision = tp / len(a)\n",
    "    recall = tp / len(b)\n",
    "    return 2 * precision * recall / (precision + recall)\n",
    "def constuct_user(y, y_pred_proba, user_ids, product_ids):\n",
    "    user = defaultdict(list)\n",
    "    for y_real, y_prob, user_id, product_id in zip(y, y_pred_proba, user_ids, product_ids):\n",
    "        user[user_id].append((y_real, y_prob, product_id))\n",
    "    return user"
   ]
  },
  {
   "cell_type": "code",
   "execution_count": 13,
   "metadata": {
    "collapsed": false
   },
   "outputs": [],
   "source": [
    "def evaluate(y, y_pred_proba, user_ids, product_ids):\n",
    "    user = constuct_user(y, y_pred_proba, user_ids, product_ids)\n",
    "    res = 0\n",
    "    for i, (user_id, r) in enumerate(user.iteritems()):\n",
    "        candidates = choose(r)\n",
    "        real = [rr[2] for rr in r if rr[0] == 1]\n",
    "        score = f1(candidates, real)\n",
    "        res += score\n",
    "    print(res / len(user)) "
   ]
  },
  {
   "cell_type": "code",
   "execution_count": 14,
   "metadata": {
    "collapsed": false
   },
   "outputs": [
    {
     "name": "stdout",
     "output_type": "stream",
     "text": [
      "0.364154038085\n"
     ]
    }
   ],
   "source": [
    "evaluate(y_val, y_val_pred_prob, user_ids[val_index], product_ids[val_index])"
   ]
  },
  {
   "cell_type": "code",
   "execution_count": 16,
   "metadata": {
    "collapsed": false
   },
   "outputs": [
    {
     "name": "stdout",
     "output_type": "stream",
     "text": [
      "0.364276968572\n"
     ]
    }
   ],
   "source": [
    "evaluate(y_train, y_train_pred_prob, user_ids[train_index], product_ids[train_index])"
   ]
  },
  {
   "cell_type": "code",
   "execution_count": null,
   "metadata": {
    "collapsed": true
   },
   "outputs": [],
   "source": []
  },
  {
   "cell_type": "code",
   "execution_count": null,
   "metadata": {
    "collapsed": true
   },
   "outputs": [],
   "source": []
  },
  {
   "cell_type": "code",
   "execution_count": 17,
   "metadata": {
    "collapsed": true
   },
   "outputs": [],
   "source": [
    "orders_test = pd.read_csv('../csv/orders.csv')\n",
    "orders_test = orders_test[orders_test.eval_set == 'test']"
   ]
  },
  {
   "cell_type": "code",
   "execution_count": 18,
   "metadata": {
    "collapsed": false
   },
   "outputs": [],
   "source": [
    "o, u = orders_test['order_id'], orders_test['user_id']\n",
    "u2o = {uu: oo for oo, uu in zip(o, u)}"
   ]
  },
  {
   "cell_type": "code",
   "execution_count": 19,
   "metadata": {
    "collapsed": true
   },
   "outputs": [],
   "source": [
    "X_test, user_ids_test, product_ids_test = get_input('../data/test.data', False)"
   ]
  },
  {
   "cell_type": "code",
   "execution_count": 25,
   "metadata": {
    "collapsed": false
   },
   "outputs": [],
   "source": [
    "y_test_pred_proba = m.predict_proba(X_test)[:, 1]"
   ]
  },
  {
   "cell_type": "code",
   "execution_count": 26,
   "metadata": {
    "collapsed": false
   },
   "outputs": [],
   "source": [
    "user_test = constuct_user(np.zeros(X_test.shape[0]), y_test_pred_proba, user_ids_test, product_ids_test)"
   ]
  },
  {
   "cell_type": "code",
   "execution_count": 27,
   "metadata": {
    "collapsed": false
   },
   "outputs": [],
   "source": [
    "from __future__ import print_function\n",
    "with open('../data/result_20170731.csv', 'w') as f:\n",
    "    print('order_id,products', file=f)\n",
    "    for user_id, r in user_test.iteritems():\n",
    "        order_id = u2o[user_id]\n",
    "        v = [str(p) for p in choose(r).tolist()]\n",
    "        if len(v) == 0:\n",
    "            print('%s,None' % order_id, file=f)\n",
    "        else:\n",
    "            print('%s,%s' % (order_id, ' '.join(v)), file=f)"
   ]
  },
  {
   "cell_type": "code",
   "execution_count": null,
   "metadata": {
    "collapsed": true
   },
   "outputs": [],
   "source": []
  }
 ],
 "metadata": {
  "anaconda-cloud": {},
  "kernelspec": {
   "display_name": "Python [conda root]",
   "language": "python",
   "name": "conda-root-py"
  },
  "language_info": {
   "codemirror_mode": {
    "name": "ipython",
    "version": 2
   },
   "file_extension": ".py",
   "mimetype": "text/x-python",
   "name": "python",
   "nbconvert_exporter": "python",
   "pygments_lexer": "ipython2",
   "version": "2.7.12"
  }
 },
 "nbformat": 4,
 "nbformat_minor": 1
}
