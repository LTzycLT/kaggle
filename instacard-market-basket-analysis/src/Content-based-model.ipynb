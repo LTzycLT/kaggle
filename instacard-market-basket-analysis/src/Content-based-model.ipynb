{
 "cells": [
  {
   "cell_type": "code",
   "execution_count": 1,
   "metadata": {
    "collapsed": true
   },
   "outputs": [],
   "source": [
    "import pandas as pd\n",
    "from scipy import sparse\n",
    "import time"
   ]
  },
  {
   "cell_type": "code",
   "execution_count": 2,
   "metadata": {
    "collapsed": true
   },
   "outputs": [],
   "source": [
    "train = pd.read_csv('../data/train.data')"
   ]
  },
  {
   "cell_type": "code",
   "execution_count": 3,
   "metadata": {
    "collapsed": true
   },
   "outputs": [],
   "source": [
    "up = [(str(row.user_id), str(row.product_id)) for row in train.itertuples()]"
   ]
  },
  {
   "cell_type": "code",
   "execution_count": 4,
   "metadata": {
    "collapsed": true
   },
   "outputs": [],
   "source": [
    "df_X = train.drop(['user_id', 'eval_set', 'product_id', 'label'], 1)\n",
    "y = train['label']"
   ]
  },
  {
   "cell_type": "code",
   "execution_count": 5,
   "metadata": {
    "collapsed": false
   },
   "outputs": [],
   "source": [
    "#def df2csr(df):\n",
    "#    return sparse.csr_matrix(df.astype(float).values)\n",
    "#X = df2csr(df_X)"
   ]
  },
  {
   "cell_type": "code",
   "execution_count": 6,
   "metadata": {
    "collapsed": false
   },
   "outputs": [],
   "source": [
    "sz = -1\n",
    "df_X_train = df_X[0: sz]\n",
    "#X_train = X[0: sz] \n",
    "y_train = y[0: sz]\n",
    "\n",
    "#df_X_test = df_X[sz: 2 * sz]\n",
    "#X_test = X[sz: 2 * sz]\n",
    "#y_test = y[sz: 2 * sz]"
   ]
  },
  {
   "cell_type": "code",
   "execution_count": 7,
   "metadata": {
    "collapsed": true
   },
   "outputs": [],
   "source": [
    "import lightgbm as lgb"
   ]
  },
  {
   "cell_type": "code",
   "execution_count": 8,
   "metadata": {
    "collapsed": false
   },
   "outputs": [],
   "source": [
    "d_train = lgb.Dataset(df_X_train, y_train, categorical_feature=['aisle_id', 'department_id'])"
   ]
  },
  {
   "cell_type": "code",
   "execution_count": 9,
   "metadata": {
    "collapsed": false
   },
   "outputs": [
    {
     "name": "stdout",
     "output_type": "stream",
     "text": [
      "107.620867968\n"
     ]
    }
   ],
   "source": [
    "params = {\n",
    "    'task': 'train',\n",
    "    'boosting_type': 'gbdt',\n",
    "    'objective': 'binary',\n",
    "    'metric': {'binary_logloss'},\n",
    "    'num_leaves': 96,\n",
    "    'feature_fraction': 0.9,\n",
    "    'bagging_fraction': 0.95,\n",
    "    'bagging_freq': 5\n",
    "}\n",
    "ROUNDS = 98\n",
    "start_time = time.time()\n",
    "bst = lgb.train(params, d_train, ROUNDS)\n",
    "print(time.time() - start_time)"
   ]
  },
  {
   "cell_type": "code",
   "execution_count": 10,
   "metadata": {
    "collapsed": false
   },
   "outputs": [
    {
     "name": "stdout",
     "output_type": "stream",
     "text": [
      "47 Unnamed:_0\n",
      "70 order_id\n",
      "1931 order_number\n",
      "59 order_dow\n",
      "91 order_hour_of_day\n",
      "619 days_since_prior_order\n",
      "113 ('puadd_to_cart_order',_'pumean')\n",
      "217 ('pudays_since_prior_order',_'pumean')\n",
      "2041 ('puorder_number',_'pumean')\n",
      "689 ('pureordered',_'pusum')\n",
      "19 ('pureordered',_'pucount')\n",
      "32 ('pureordered',_'puratio')\n",
      "27 ('p_order_id',_'p_nunique')\n",
      "89 ('p_add_to_cart_order',_'p_mean')\n",
      "32 ('p_user_id',_'p_nunique')\n",
      "125 ('p_days_since_prior_order',_'p_mean')\n",
      "30 ('p_reordered',_'p_sum')\n",
      "4 ('p_reordered',_'p_count')\n",
      "425 ('p_reordered',_'p_ratio')\n",
      "125 ('plevel_user_id',_'plevel_1')\n",
      "35 ('plevel_user_id',_'plevel_2')\n",
      "38 ('plevel_user_id',_'plevel_3')\n",
      "20 ('plevel_user_id',_'plevel_4')\n",
      "25 ('plevel_user_id',_'plevel_5')\n",
      "28 ('plevel_user_id',_'plevel_6')\n",
      "23 ('plevel_user_id',_'plevel_7')\n",
      "22 ('plevel_user_id',_'plevel_8')\n",
      "25 ('plevel_user_id',_'plevel_9')\n",
      "79 ('plevel_user_id',_'plevel_10')\n",
      "51 ('aisle_reordered',_'aisle_sum')\n",
      "29 ('aisle_reordered',_'aisle_count')\n",
      "134 ('aisle_reordered',_'aisle_ratio')\n",
      "53 ('department_reordered',_'department_sum')\n",
      "10 ('department_reordered',_'department_count')\n",
      "39 ('department_reordered',_'department_ratio')\n",
      "339 ('u_order_id',_'u_nunique')\n",
      "317 ('u_days_since_prior_order',_'u_mean')\n",
      "65 ('u_product_id',_'u_nunique')\n",
      "126 ('u_reordered',_'u_sum')\n",
      "77 ('u_reordered',_'u_count')\n",
      "422 ('u_reordered',_'u_ratio')\n",
      "168 ('ulevel_product_id',_'ulevel_1')\n",
      "76 ('ulevel_product_id',_'ulevel_2')\n",
      "80 ('ulevel_product_id',_'ulevel_3')\n",
      "73 ('ulevel_product_id',_'ulevel_4')\n",
      "43 ('ulevel_product_id',_'ulevel_5')\n",
      "31 ('ulevel_product_id',_'ulevel_6')\n",
      "22 ('ulevel_product_id',_'ulevel_7')\n",
      "22 ('ulevel_product_id',_'ulevel_8')\n",
      "19 ('ulevel_product_id',_'ulevel_9')\n",
      "34 ('ulevel_product_id',_'ulevel_10')\n"
     ]
    }
   ],
   "source": [
    "for k, v in zip(bst.feature_importance(), bst.feature_name()):\n",
    "    print k,v"
   ]
  },
  {
   "cell_type": "code",
   "execution_count": 11,
   "metadata": {
    "collapsed": false
   },
   "outputs": [
    {
     "name": "stdout",
     "output_type": "stream",
     "text": [
      "('train_score', 0.83273261300870771)\n"
     ]
    }
   ],
   "source": [
    "#lightgbm\n",
    "bst_y_train_pred_prob = bst.predict(df_X_train)\n",
    "#bst_y_test_pred_prob = bst.predict(df_X_test)\n",
    "from sklearn.metrics import f1_score, roc_auc_score\n",
    "#print('test_score', roc_auc_score(y_test, bst_y_test_pred_prob))\n",
    "print('train_score', roc_auc_score(y_train, bst_y_train_pred_prob))"
   ]
  },
  {
   "cell_type": "code",
   "execution_count": 12,
   "metadata": {
    "collapsed": false
   },
   "outputs": [
    {
     "data": {
      "text/plain": [
       "\"\\nfrom xgboost import XGBClassifier\\nxgb = XGBClassifier()\\nstart_time = time.time()\\nxgb.fit(X_train, y_train)\\nprint(time.time() - start_time)\\nxgb_y_train_pred_prob = xgb.predict_proba(X_train)[:, 1]\\nxgb_y_test_pred_prob = xgb.predict_proba(X_test)[:, 1]\\n#xgboost\\nprint ('test_score', roc_auc_score(y_test, xgb_y_test_pred_prob))\\nprint ('train_score', roc_auc_score(y_train, xgb_y_train_pred_prob))\\n\""
      ]
     },
     "execution_count": 12,
     "metadata": {},
     "output_type": "execute_result"
    }
   ],
   "source": [
    "\"\"\"\n",
    "from xgboost import XGBClassifier\n",
    "xgb = XGBClassifier()\n",
    "start_time = time.time()\n",
    "xgb.fit(X_train, y_train)\n",
    "print(time.time() - start_time)\n",
    "xgb_y_train_pred_prob = xgb.predict_proba(X_train)[:, 1]\n",
    "xgb_y_test_pred_prob = xgb.predict_proba(X_test)[:, 1]\n",
    "#xgboost\n",
    "print ('test_score', roc_auc_score(y_test, xgb_y_test_pred_prob))\n",
    "print ('train_score', roc_auc_score(y_train, xgb_y_train_pred_prob))\n",
    "\"\"\""
   ]
  },
  {
   "cell_type": "code",
   "execution_count": null,
   "metadata": {
    "collapsed": true
   },
   "outputs": [],
   "source": []
  },
  {
   "cell_type": "code",
   "execution_count": 13,
   "metadata": {
    "collapsed": false
   },
   "outputs": [],
   "source": [
    "#xgboost\n",
    "#xgb_y = xgb.predict_proba(X)[:, 1]\n",
    "\n",
    "#lightgbm\n",
    "bst_y = bst.predict(df_X)"
   ]
  },
  {
   "cell_type": "code",
   "execution_count": 14,
   "metadata": {
    "collapsed": false
   },
   "outputs": [],
   "source": [
    "orders = pd.read_csv('../csv/orders.csv')\n",
    "order_products_train = pd.read_csv('../csv/order_products__train.csv')"
   ]
  },
  {
   "cell_type": "code",
   "execution_count": 15,
   "metadata": {
    "collapsed": true
   },
   "outputs": [],
   "source": [
    "result = orders[orders.eval_set == 'train'].set_index('order_id').join(order_products_train.set_index('order_id'))"
   ]
  },
  {
   "cell_type": "code",
   "execution_count": 16,
   "metadata": {
    "collapsed": false
   },
   "outputs": [],
   "source": [
    "fresult = result[result.reordered == 1]"
   ]
  },
  {
   "cell_type": "code",
   "execution_count": 17,
   "metadata": {
    "collapsed": false
   },
   "outputs": [],
   "source": [
    "from collections import defaultdict\n",
    "expect = defaultdict(set)\n",
    "for row in fresult.itertuples():\n",
    "    expect[str(row.user_id)].add(str(row.product_id))"
   ]
  },
  {
   "cell_type": "code",
   "execution_count": 18,
   "metadata": {
    "collapsed": true
   },
   "outputs": [],
   "source": [
    "def f1(prediction, expect, verbose=False):\n",
    "    prediction = [int(p) for p in prediction]\n",
    "    expect = set([int(e) for e in expect])\n",
    "    \n",
    "    if verbose:\n",
    "        print(prediction)\n",
    "        print(expect)\n",
    "    tp = 0\n",
    "    for c in prediction:\n",
    "        if c in expect:\n",
    "            tp += 1\n",
    "    if tp != 0:\n",
    "        precision = tp * 1.0 / len(prediction)\n",
    "        recall = tp * 1.0 / len(expect)\n",
    "        f1 = 2 * precision * recall / (precision + recall)\n",
    "    else:\n",
    "        f1 = 0\n",
    "    return f1"
   ]
  },
  {
   "cell_type": "code",
   "execution_count": 19,
   "metadata": {
    "collapsed": false
   },
   "outputs": [],
   "source": [
    "def validate(threshold, y_prob):\n",
    "    prediction = defaultdict(set)\n",
    "    for i, (p, row) in enumerate(zip(y_prob, up)):\n",
    "        if p > threshold:\n",
    "            prediction[row[0]].add(row[1])\n",
    "    s = 0\n",
    "    for i, (user_id, product_ids) in enumerate(expect.iteritems()):\n",
    "        s += f1(prediction.get(user_id, []), product_ids)\n",
    "    print('%s %s' % (threshold, s / len(expect)))"
   ]
  },
  {
   "cell_type": "code",
   "execution_count": 22,
   "metadata": {
    "collapsed": true
   },
   "outputs": [],
   "source": [
    "test = pd.read_csv('../data/test.data')"
   ]
  },
  {
   "cell_type": "code",
   "execution_count": 23,
   "metadata": {
    "collapsed": true
   },
   "outputs": [],
   "source": [
    "A = sparse.csr_matrix(test.drop(['user_id', 'eval_set', 'product_id'], 1).astype(float).values)"
   ]
  },
  {
   "cell_type": "code",
   "execution_count": 24,
   "metadata": {
    "collapsed": true
   },
   "outputs": [],
   "source": [
    "upt = [(str(row.user_id), str(row.product_id)) for row in test.itertuples()]"
   ]
  },
  {
   "cell_type": "code",
   "execution_count": 25,
   "metadata": {
    "collapsed": false
   },
   "outputs": [],
   "source": [
    "#xgboost\n",
    "#b = xgb.predict_proba(A)[:,1]\n",
    "#lightgbm\n",
    "b = bst.predict(A)"
   ]
  },
  {
   "cell_type": "code",
   "execution_count": 26,
   "metadata": {
    "collapsed": false
   },
   "outputs": [],
   "source": [
    "uo = {str(int(float(u))): str(int(float(o))) for o, u in orders.reset_index().where(orders.eval_set == 'test')[['order_id', 'user_id']].astype(str).values if o != 'nan'}"
   ]
  },
  {
   "cell_type": "code",
   "execution_count": 33,
   "metadata": {
    "collapsed": false
   },
   "outputs": [],
   "source": [
    "threshold = 0.15\n",
    "#for i in range(15, 20, 1):\n",
    "#    validate(i * 0.01, bst_y) "
   ]
  },
  {
   "cell_type": "code",
   "execution_count": 34,
   "metadata": {
    "collapsed": false
   },
   "outputs": [],
   "source": [
    "result = {o: set() for u,o in uo.iteritems() if o != 'nan'}\n",
    "for i, (p, row) in enumerate(zip(b, upt)):\n",
    "    if p > threshold:\n",
    "        result[uo[row[0]]].add(row[1])"
   ]
  },
  {
   "cell_type": "code",
   "execution_count": 35,
   "metadata": {
    "collapsed": false
   },
   "outputs": [],
   "source": [
    "from __future__ import print_function\n",
    "with open('../data/result_20170727_threshold_023_training_data.csv', 'w') as f:\n",
    "    print('order_id,products', file=f)\n",
    "    for k, v in result.iteritems():\n",
    "        if len(v) == 0:\n",
    "            print('%s,None' % k, file=f)\n",
    "        else:\n",
    "            print('%s,%s' % (k, ' '.join(v)), file=f)"
   ]
  },
  {
   "cell_type": "code",
   "execution_count": null,
   "metadata": {
    "collapsed": true
   },
   "outputs": [],
   "source": []
  }
 ],
 "metadata": {
  "anaconda-cloud": {},
  "kernelspec": {
   "display_name": "Python [conda root]",
   "language": "python",
   "name": "conda-root-py"
  },
  "language_info": {
   "codemirror_mode": {
    "name": "ipython",
    "version": 2
   },
   "file_extension": ".py",
   "mimetype": "text/x-python",
   "name": "python",
   "nbconvert_exporter": "python",
   "pygments_lexer": "ipython2",
   "version": "2.7.12"
  }
 },
 "nbformat": 4,
 "nbformat_minor": 1
}
