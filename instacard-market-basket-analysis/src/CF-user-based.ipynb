{
 "cells": [
  {
   "cell_type": "code",
   "execution_count": 4,
   "metadata": {
    "collapsed": true
   },
   "outputs": [],
   "source": [
    "from collections import defaultdict"
   ]
  },
  {
   "cell_type": "code",
   "execution_count": null,
   "metadata": {
    "collapsed": true
   },
   "outputs": [],
   "source": [
    "#TODO\n",
    "#remove header in csv\n",
    "\n",
    "#20170629\n",
    "#For any user A, it's hard to find a similar user.(the smallest cosine similarity is always larger than 0.5 based on LSHForest) \n",
    "#NMF trainning time is under expectation, todo\n",
    "\n",
    "#20170706\n",
    "#item-based user-based has been tried, bad result\n",
    "#NMF, xgboost to do next"
   ]
  },
  {
   "cell_type": "code",
   "execution_count": 3,
   "metadata": {
    "collapsed": false
   },
   "outputs": [],
   "source": [
    "prior_order = []\n",
    "train_order = []\n",
    "test_order = []\n",
    "\n",
    "with open('../csv/orders.csv') as f:\n",
    "    for line in f:\n",
    "        items = line.strip().split(\",\")\n",
    "        order_id, user_id, eval_set = items[0: 3]\n",
    "        if eval_set == 'prior': prior_order.append((order_id, user_id))\n",
    "        elif eval_set == 'train': train_order.append((order_id, user_id))\n",
    "        else: test_order.append((order_id, user_id))"
   ]
  },
  {
   "cell_type": "code",
   "execution_count": 6,
   "metadata": {
    "collapsed": true
   },
   "outputs": [],
   "source": [
    "prior_order_product = defaultdict(list)\n",
    "train_order_product = defaultdict(list)\n",
    "\n",
    "def get_order_product(res, fin):\n",
    "    with open(fin) as f:\n",
    "        for line in f:\n",
    "            items = line.strip().split(',')\n",
    "            order_id, product_id = items[0: 2]\n",
    "            res[order_id].append(product_id)\n",
    "get_order_product(prior_order_product, '../csv/order_products__prior.csv')\n",
    "get_order_product(train_order_product, '../csv/order_products__train.csv')"
   ]
  },
  {
   "cell_type": "code",
   "execution_count": 7,
   "metadata": {
    "collapsed": true
   },
   "outputs": [],
   "source": [
    "history = defaultdict(int)\n",
    "\n",
    "for order_id,user_id in prior_order:\n",
    "    if order_id in prior_order_product:\n",
    "        for product_id in prior_order_product[order_id]:\n",
    "            history[(user_id, product_id)] += 1"
   ]
  },
  {
   "cell_type": "code",
   "execution_count": 34,
   "metadata": {
    "collapsed": true
   },
   "outputs": [],
   "source": [
    "product2user = defaultdict(set)\n",
    "\n",
    "for u, p in history: product2user[p].add(u)"
   ]
  },
  {
   "cell_type": "code",
   "execution_count": 10,
   "metadata": {
    "collapsed": true
   },
   "outputs": [],
   "source": [
    "n, m  = 206210, 49689"
   ]
  },
  {
   "cell_type": "code",
   "execution_count": 15,
   "metadata": {
    "collapsed": false
   },
   "outputs": [],
   "source": [
    "from scipy.sparse import csr_matrix\n",
    "\n",
    "row = []\n",
    "col = []\n",
    "val = []\n",
    "for (user_id, product_id), v in history.iteritems():\n",
    "    row.append(user_id)\n",
    "    col.append(product_id)\n",
    "    val.append(v)\n",
    "\n",
    "X = csr_matrix((val, (row, col)), shape=(n, m))"
   ]
  },
  {
   "cell_type": "code",
   "execution_count": 170,
   "metadata": {
    "collapsed": true
   },
   "outputs": [],
   "source": [
    "def f1(prediction, expect, verbose=False):\n",
    "    prediction = [int(p) for p in prediction]\n",
    "    expect = set([int(e) for e in expect])\n",
    "    \n",
    "    if verbose:\n",
    "        print(prediction)\n",
    "        print(expect)\n",
    "    tp = 0\n",
    "    for c in prediction:\n",
    "        if c in expect:\n",
    "            tp += 1\n",
    "    if tp != 0:\n",
    "        precision = tp * 1.0 / len(predict)\n",
    "        recall = tp * 1.0 / len(expect)\n",
    "        f1 = 2 * precision * recall / (precision + recall)\n",
    "    else:\n",
    "        f1 = 0\n",
    "    return f1"
   ]
  },
  {
   "cell_type": "code",
   "execution_count": 40,
   "metadata": {
    "collapsed": false
   },
   "outputs": [],
   "source": [
    "from sklearn.neighbors import KDTree, NearestNeighbors\n",
    "from sklearn.cluster import KMeans\n",
    "from sklearn.neighbors import LSHForest"
   ]
  },
  {
   "cell_type": "code",
   "execution_count": 42,
   "metadata": {
    "collapsed": false
   },
   "outputs": [
    {
     "data": {
      "text/plain": [
       "LSHForest(min_hash_match=4, n_candidates=50, n_estimators=10, n_neighbors=5,\n",
       "     radius=1.0, radius_cutoff_ratio=0.9, random_state=2333)"
      ]
     },
     "execution_count": 42,
     "metadata": {},
     "output_type": "execute_result"
    }
   ],
   "source": [
    "#user-based CF\n",
    "lshf = LSHForest(random_state=2333)\n",
    "lshf.fit(X)\n",
    "distances, indices = lshf.kneighbors(X[0:100, :], 10)"
   ]
  },
  {
   "cell_type": "code",
   "execution_count": 172,
   "metadata": {
    "collapsed": false
   },
   "outputs": [
    {
     "name": "stdout",
     "output_type": "stream",
     "text": [
      "0.0487804878049\n",
      "0\n",
      "0\n",
      "0.0714285714286\n",
      "0.0625\n",
      "0\n",
      "0\n",
      "0\n",
      "0.125\n"
     ]
    }
   ],
   "source": [
    "##user-based CF, search\n",
    "for order_id, user_id in train_order[1: 10]:\n",
    "    order_id = int(order_id)\n",
    "    user_id = int(user_id)\n",
    "    expect = train_order_product[str(order_id)]\n",
    "    candidates = defaultdict(float)\n",
    "    for dis,su in zip(distances[user_id], indices[user_id]):\n",
    "        row, product_ids = X[su].nonzero()\n",
    "        product_numbers = X[su][(row, product_ids)].tolist()[0]\n",
    "        for product_id, product_number in zip(product_ids, product_numbers):\n",
    "            gap = product_number - X[int(user_id), int(product_id)]\n",
    "            if gap > 0: gap = 1\n",
    "            elif gap < 0: gap = -1\n",
    "            else: gap = 1\n",
    "            candidates[product_id] += gap * dis\n",
    "    candidates = [(k, v) for k, v in candidates.iteritems()]\n",
    "    candidates.sort(key=lambda o: o[1], reverse=True)\n",
    "    print(f1([c[0] for c in candidates[0: 10]], expect))"
   ]
  },
  {
   "cell_type": "code",
   "execution_count": 180,
   "metadata": {
    "collapsed": false
   },
   "outputs": [
    {
     "name": "stdout",
     "output_type": "stream",
     "text": [
      "0.13194618235\n"
     ]
    }
   ],
   "source": [
    "#based on self\n",
    "s, c = 0, 0\n",
    "for order_id, user_id in train_order[0: 100]:\n",
    "    row, product_ids = X[user_id].nonzero()\n",
    "    product_numbers = X[su][(row, product_ids)].tolist()[0]\n",
    "    expect = train_order_product[str(order_id)]\n",
    "    ps = [(pid, pnumber) for pid, pnumber in zip(product_ids, product_numbers)]\n",
    "    ps.sort(key=lambda o: o[1], reverse=True)\n",
    "    s += f1([p[0] for p in ps[0: 10]], expect)\n",
    "    c += 1\n",
    "print(s / c)"
   ]
  },
  {
   "cell_type": "code",
   "execution_count": 191,
   "metadata": {
    "collapsed": false
   },
   "outputs": [
    {
     "name": "stdout",
     "output_type": "stream",
     "text": [
      "1.56726408005\n"
     ]
    }
   ],
   "source": [
    "#item based\n",
    "T = X.T\n",
    "lshf = LSHForest(random_state=2333)\n",
    "lshf.fit(T)"
   ]
  },
  {
   "cell_type": "code",
   "execution_count": 193,
   "metadata": {
    "collapsed": false
   },
   "outputs": [
    {
     "name": "stdout",
     "output_type": "stream",
     "text": [
      "13.3247950077\n"
     ]
    }
   ],
   "source": [
    "#item based search\n",
    "start_time = time.time()\n",
    "distances, indices = lshf.kneighbors(T[0: 1000, :], 3)\n",
    "print(time.time() - start_time)"
   ]
  },
  {
   "cell_type": "code",
   "execution_count": 190,
   "metadata": {
    "collapsed": false
   },
   "outputs": [
    {
     "data": {
      "text/plain": [
       "array([ 0.        ,  0.72774849,  0.8619122 ,  0.87007009,  0.88881868,\n",
       "        0.97467249,  0.98913076,  0.99145754,  0.99470299,  0.99558198])"
      ]
     },
     "execution_count": 190,
     "metadata": {},
     "output_type": "execute_result"
    }
   ],
   "source": [
    "##item-based calculate\n",
    "for order_id, user_id in train_order[1: 2]:\n",
    "    order_id = int(order_id)\n",
    "    user_id = int(user_id)\n",
    "    expect = train_order_product[str(order_id)]\n",
    "    \n",
    "    candidates = defaultdict(float)\n",
    "    row, product_ids = X[user_id].nonzero()\n",
    "    for product_id in product_ids:\n",
    "            gap = product_number - X[int(user_id), int(product_id)]\n",
    "            if gap > 0: gap = 1\n",
    "            elif gap < 0: gap = -1\n",
    "            else: gap = 1\n",
    "            candidates[product_id] += gap * dis\n",
    "    candidates = [(k, v) for k, v in candidates.iteritems()]\n",
    "    candidates.sort(key=lambda o: o[1], reverse=True)\n",
    "    print(f1([c[0] for c in candidates[0: 10]], expect))"
   ]
  },
  {
   "cell_type": "code",
   "execution_count": 67,
   "metadata": {
    "collapsed": false
   },
   "outputs": [],
   "source": [
    "from sklearn.decomposition import NMF"
   ]
  },
  {
   "cell_type": "code",
   "execution_count": 68,
   "metadata": {
    "collapsed": true
   },
   "outputs": [],
   "source": [
    "nmf = NMF(n_components=10, init='random', random_state=0)"
   ]
  },
  {
   "cell_type": "code",
   "execution_count": 75,
   "metadata": {
    "collapsed": false
   },
   "outputs": [
    {
     "data": {
      "text/plain": [
       "NMF(alpha=0.0, beta=1, eta=0.1, init='random', l1_ratio=0.0, max_iter=200,\n",
       "  n_components=10, nls_max_iter=2000, random_state=0, shuffle=False,\n",
       "  solver='cd', sparseness=None, tol=0.0001, verbose=0)"
      ]
     },
     "execution_count": 75,
     "metadata": {},
     "output_type": "execute_result"
    }
   ],
   "source": [
    "nmf.fit(X)"
   ]
  },
  {
   "cell_type": "code",
   "execution_count": 156,
   "metadata": {
    "collapsed": false
   },
   "outputs": [
    {
     "data": {
      "text/plain": [
       "0.0"
      ]
     },
     "execution_count": 156,
     "metadata": {},
     "output_type": "execute_result"
    }
   ],
   "source": [
    "from sklearn.metrics import f1_score\n",
    "\n",
    "f1_score([1, 1, 1, 0, 0], [0, 0, 0, 1, 0], average='binary')"
   ]
  },
  {
   "cell_type": "code",
   "execution_count": null,
   "metadata": {
    "collapsed": true
   },
   "outputs": [],
   "source": []
  }
 ],
 "metadata": {
  "anaconda-cloud": {},
  "kernelspec": {
   "display_name": "Python [default]",
   "language": "python",
   "name": "python2"
  },
  "language_info": {
   "codemirror_mode": {
    "name": "ipython",
    "version": 2
   },
   "file_extension": ".py",
   "mimetype": "text/x-python",
   "name": "python",
   "nbconvert_exporter": "python",
   "pygments_lexer": "ipython2",
   "version": "2.7.12"
  }
 },
 "nbformat": 4,
 "nbformat_minor": 1
}
