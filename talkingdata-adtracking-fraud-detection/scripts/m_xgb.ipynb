{
 "cells": [
  {
   "cell_type": "code",
   "execution_count": 1,
   "metadata": {},
   "outputs": [],
   "source": [
    "import pandas as pd\n",
    "import xgboost as xgb\n",
    "import gc"
   ]
  },
  {
   "cell_type": "code",
   "execution_count": 2,
   "metadata": {},
   "outputs": [],
   "source": [
    "from utils import *"
   ]
  },
  {
   "cell_type": "code",
   "execution_count": 16,
   "metadata": {},
   "outputs": [],
   "source": [
    "mname = 'xgb'"
   ]
  },
  {
   "cell_type": "code",
   "execution_count": 3,
   "metadata": {},
   "outputs": [
    {
     "name": "stdout",
     "output_type": "stream",
     "text": [
      "df_train.shape 161570557,13\n",
      "df_val.shape 23333333,13\n",
      "df_sub.shape 18790469,13\n"
     ]
    }
   ],
   "source": [
    "df_train, df_val, df_sub = load()"
   ]
  },
  {
   "cell_type": "code",
   "execution_count": 4,
   "metadata": {},
   "outputs": [],
   "source": [
    "data_val = xgb.DMatrix(df_val[xnames], df_val[yname])\n",
    "data = xgb.DMatrix(df_train[xnames], df_train[yname])"
   ]
  },
  {
   "cell_type": "code",
   "execution_count": 5,
   "metadata": {},
   "outputs": [
    {
     "data": {
      "text/plain": [
       "72"
      ]
     },
     "execution_count": 5,
     "metadata": {},
     "output_type": "execute_result"
    }
   ],
   "source": [
    "del df_train, df_val\n",
    "gc.collect()"
   ]
  },
  {
   "cell_type": "code",
   "execution_count": 6,
   "metadata": {},
   "outputs": [],
   "source": [
    "params = {'eta': 0.6,\n",
    "          'tree_method': \"hist\",\n",
    "          'grow_policy': \"lossguide\",\n",
    "          'max_leaves': 31,  \n",
    "          'max_depth': 5, \n",
    "          'subsample': 0.9, \n",
    "          'colsample_bytree': 0.7, \n",
    "          'colsample_bylevel':0.7,\n",
    "          'min_child_weight':0,\n",
    "          'alpha':4,\n",
    "          'nthread': 16,\n",
    "          'objective': 'binary:logistic', \n",
    "          'scale_pos_weight':99,\n",
    "          'eval_metric': 'auc', \n",
    "          'random_state': 2333}"
   ]
  },
  {
   "cell_type": "code",
   "execution_count": 7,
   "metadata": {},
   "outputs": [
    {
     "name": "stdout",
     "output_type": "stream",
     "text": [
      "[0]\ttrain-auc:0.89734\tvalid-auc:0.903754\n",
      "Multiple eval metrics have been passed: 'valid-auc' will be used for early stopping.\n",
      "\n",
      "Will train until valid-auc hasn't improved in 25 rounds.\n",
      "[1]\ttrain-auc:0.932559\tvalid-auc:0.934295\n",
      "[2]\ttrain-auc:0.938943\tvalid-auc:0.939565\n"
     ]
    }
   ],
   "source": [
    "r = xgb.train(params,\n",
    "                  data,\n",
    "                  300,\n",
    "                  [(data, 'train'), (data_val, 'valid')],\n",
    "                  maximize=True,\n",
    "                  early_stopping_rounds = 25)"
   ]
  },
  {
   "cell_type": "code",
   "execution_count": 15,
   "metadata": {},
   "outputs": [
    {
     "data": {
      "text/plain": [
       "['../model/xgb.pkl']"
      ]
     },
     "execution_count": 15,
     "metadata": {},
     "output_type": "execute_result"
    }
   ],
   "source": [
    "from sklearn.externals import joblib\n",
    "joblib.dump(r, '../model/%s.pkl' % mname) "
   ]
  },
  {
   "cell_type": "code",
   "execution_count": 8,
   "metadata": {},
   "outputs": [],
   "source": [
    "y_val_pred = r.predict(data_val, ntree_limit=r.best_ntree_limit)"
   ]
  },
  {
   "cell_type": "code",
   "execution_count": 17,
   "metadata": {},
   "outputs": [
    {
     "name": "stdout",
     "output_type": "stream",
     "text": [
      "writing val ...\n"
     ]
    }
   ],
   "source": [
    "import pickle\n",
    "print('writing val ...')\n",
    "output_val = pd.DataFrame({'y_pred': y_val_pred, 'y': data_val.get_label()})\n",
    "with open('../data/%s_val.pickle' % mname, 'wb') as handle:\n",
    "    pickle.dump(output_val, handle, protocol=pickle.HIGHEST_PROTOCOL)"
   ]
  },
  {
   "cell_type": "code",
   "execution_count": 18,
   "metadata": {},
   "outputs": [
    {
     "name": "stdout",
     "output_type": "stream",
     "text": [
      "predicting...\n",
      "writing...\n"
     ]
    }
   ],
   "source": [
    "ids = df_sub['click_id'].astype(int).values\n",
    "X_sub = xgb.DMatrix(df_sub[xnames])\n",
    "print('predicting...')\n",
    "y_sub = r.predict(X_sub, ntree_limit=r.best_ntree_limit)\n",
    "print('writing...')\n",
    "output = pd.DataFrame({'click_id': ids, 'is_attributed': y_sub})\n",
    "output.to_csv(\"../data/%s.csv.gz\" % mname, compression='gzip', index=False)"
   ]
  },
  {
   "cell_type": "code",
   "execution_count": null,
   "metadata": {},
   "outputs": [],
   "source": []
  }
 ],
 "metadata": {
  "kernelspec": {
   "display_name": "Python 3",
   "language": "python",
   "name": "python3"
  },
  "language_info": {
   "codemirror_mode": {
    "name": "ipython",
    "version": 3
   },
   "file_extension": ".py",
   "mimetype": "text/x-python",
   "name": "python",
   "nbconvert_exporter": "python",
   "pygments_lexer": "ipython3",
   "version": "3.6.4"
  }
 },
 "nbformat": 4,
 "nbformat_minor": 2
}
