{
 "cells": [
  {
   "cell_type": "code",
   "execution_count": null,
   "metadata": {},
   "outputs": [],
   "source": [
    "#lgb [50]\ttrain's auc: 0.973866\tvalid's auc: 0.95478\n",
    "#catboost 50:     learn: 0.9416008        test: 0.9328532 best: 0.9329067 (49)    total: 6m 7s    remaining: 17m 54s\n",
    "# sample top 4000000 train and val\n",
    "#catboost, slow..., large memory cost..., low accuracy..."
   ]
  },
  {
   "cell_type": "code",
   "execution_count": 33,
   "metadata": {},
   "outputs": [],
   "source": [
    "import numpy \n",
    "import catboost as cbt\n",
    "from utils import *\n",
    "import pandas as pd"
   ]
  },
  {
   "cell_type": "code",
   "execution_count": 2,
   "metadata": {},
   "outputs": [
    {
     "name": "stdout",
     "output_type": "stream",
     "text": [
      "df_train.shape 161570557,13\n",
      "df_val.shape 23333333,13\n",
      "df_sub.shape 18790469,13\n"
     ]
    }
   ],
   "source": [
    "df_train, df_val, df_sub = load()"
   ]
  },
  {
   "cell_type": "code",
   "execution_count": null,
   "metadata": {},
   "outputs": [],
   "source": [
    "sample = 4000000\n",
    "df_train = df_train[: sample]\n",
    "df_val = df_val[: sample]"
   ]
  },
  {
   "cell_type": "code",
   "execution_count": 3,
   "metadata": {},
   "outputs": [],
   "source": [
    "cat_indices = [xnames.index(f) for f in categorical_names]"
   ]
  },
  {
   "cell_type": "code",
   "execution_count": 25,
   "metadata": {},
   "outputs": [],
   "source": [
    "r = cbt.CatBoostClassifier(\n",
    "    iterations=200,\n",
    "    verbose=True,\n",
    "    thread_count=16, \n",
    "    random_seed=2333,\n",
    "    learning_rate=0.05,\n",
    "    use_best_model=True,\n",
    "    depth=5,\n",
    "    leaf_estimation_method='Gradient',\n",
    "    eval_metric='AUC',\n",
    "    custom_metric='AUC',\n",
    "    scale_pos_weight=99,\n",
    ")"
   ]
  },
  {
   "cell_type": "code",
   "execution_count": 31,
   "metadata": {},
   "outputs": [
    {
     "name": "stdout",
     "output_type": "stream",
     "text": [
      "0:\tlearn: 0.9089927\ttest: 0.8981687\tbest: 0.8981687 (0)\ttotal: 1.77s\tremaining: 15.9s\n",
      "1:\tlearn: 0.9181558\ttest: 0.9166835\tbest: 0.9166835 (1)\ttotal: 3.42s\tremaining: 13.7s\n",
      "2:\tlearn: 0.9262302\ttest: 0.9210668\tbest: 0.9210668 (2)\ttotal: 5.13s\tremaining: 12s\n",
      "3:\tlearn: 0.9281000\ttest: 0.9211813\tbest: 0.9211813 (3)\ttotal: 6.87s\tremaining: 10.3s\n",
      "4:\tlearn: 0.9279648\ttest: 0.9209041\tbest: 0.9211813 (3)\ttotal: 8.51s\tremaining: 8.51s\n",
      "5:\tlearn: 0.9295577\ttest: 0.9183527\tbest: 0.9211813 (3)\ttotal: 10.1s\tremaining: 6.75s\n",
      "6:\tlearn: 0.9296786\ttest: 0.9183368\tbest: 0.9211813 (3)\ttotal: 11.7s\tremaining: 5.03s\n",
      "7:\tlearn: 0.9297945\ttest: 0.9167141\tbest: 0.9211813 (3)\ttotal: 13.4s\tremaining: 3.34s\n",
      "8:\tlearn: 0.9299538\ttest: 0.9168927\tbest: 0.9211813 (3)\ttotal: 15s\tremaining: 1.67s\n",
      "9:\tlearn: 0.9298685\ttest: 0.9171268\tbest: 0.9211813 (3)\ttotal: 16.7s\tremaining: 0us\n",
      "\n",
      "bestTest = 0.9211813113\n",
      "bestIteration = 3\n",
      "\n",
      "Shrink model to first 4 iterations.\n"
     ]
    },
    {
     "data": {
      "text/plain": [
       "<catboost.core.CatBoostClassifier at 0x7fc803ae8828>"
      ]
     },
     "execution_count": 31,
     "metadata": {},
     "output_type": "execute_result"
    }
   ],
   "source": [
    "r.fit(df_train[xnames],\n",
    "      df_train[yname],\n",
    "      cat_features=cat_indices,\n",
    "      use_best_model=True,\n",
    "      eval_set=[df_val[xnames], df_val[yname]],\n",
    "      verbose=True,\n",
    "     ) "
   ]
  },
  {
   "cell_type": "code",
   "execution_count": 10,
   "metadata": {},
   "outputs": [],
   "source": [
    "ids = df_sub['click_id'].astype(int).values"
   ]
  },
  {
   "cell_type": "code",
   "execution_count": 12,
   "metadata": {},
   "outputs": [
    {
     "name": "stdout",
     "output_type": "stream",
     "text": [
      "predicting...\n"
     ]
    }
   ],
   "source": [
    "print('predicting...')\n",
    "y_sub = r.predict_proba(df_sub[xnames])[:, 1]"
   ]
  },
  {
   "cell_type": "code",
   "execution_count": null,
   "metadata": {},
   "outputs": [
    {
     "name": "stdout",
     "output_type": "stream",
     "text": [
      "writing...\n"
     ]
    }
   ],
   "source": [
    "print('writing...')\n",
    "output = pd.DataFrame({'click_id': ids, 'is_attributed': y_sub})\n",
    "output.to_csv(\"../data/cgb.csv\", index=False)"
   ]
  },
  {
   "cell_type": "code",
   "execution_count": null,
   "metadata": {},
   "outputs": [],
   "source": []
  }
 ],
 "metadata": {
  "kernelspec": {
   "display_name": "Python 3",
   "language": "python",
   "name": "python3"
  },
  "language_info": {
   "codemirror_mode": {
    "name": "ipython",
    "version": 3
   },
   "file_extension": ".py",
   "mimetype": "text/x-python",
   "name": "python",
   "nbconvert_exporter": "python",
   "pygments_lexer": "ipython3",
   "version": "3.6.4"
  }
 },
 "nbformat": 4,
 "nbformat_minor": 2
}
