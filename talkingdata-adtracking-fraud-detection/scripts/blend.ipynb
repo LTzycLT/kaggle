{
 "cells": [
  {
   "cell_type": "code",
   "execution_count": 1,
   "metadata": {},
   "outputs": [],
   "source": [
    "import pandas as pd\n",
    "import numpy as np\n",
    "from sklearn.metrics import roc_auc_score"
   ]
  },
  {
   "cell_type": "code",
   "execution_count": 2,
   "metadata": {},
   "outputs": [],
   "source": [
    "test_files = ['../data/lgb.csv.gz',\n",
    "             '../data/xgb.csv.gz',\n",
    "             '../data/nn.csv.gz']\n",
    "val_files = ['../data/lgb_val.pickle',\n",
    "            '../data/xgb_val.pickle',\n",
    "            '../data/nn_val.pickle']"
   ]
  },
  {
   "cell_type": "code",
   "execution_count": 3,
   "metadata": {},
   "outputs": [],
   "source": [
    "dfs_test = [pd.read_csv(f) for f in test_files]"
   ]
  },
  {
   "cell_type": "code",
   "execution_count": 4,
   "metadata": {},
   "outputs": [],
   "source": [
    "import pickle\n",
    "dfs_val = []\n",
    "for val_file in val_files:\n",
    "    with open(val_file, 'rb') as handle:\n",
    "        df_val = pickle.load(handle)\n",
    "        dfs_val.append(df_val)"
   ]
  },
  {
   "cell_type": "code",
   "execution_count": 14,
   "metadata": {},
   "outputs": [
    {
     "name": "stdout",
     "output_type": "stream",
     "text": [
      "0.9692657721875765\n",
      "0.9689437177046202\n",
      "0.9575134586788727\n"
     ]
    }
   ],
   "source": [
    "L, R = 0, 3000000\n",
    "for df_val in dfs_val:\n",
    "    t = df_val[L: R]\n",
    "    print(roc_auc_score(t.y, t.y_pred))"
   ]
  },
  {
   "cell_type": "code",
   "execution_count": 15,
   "metadata": {},
   "outputs": [
    {
     "name": "stdout",
     "output_type": "stream",
     "text": [
      "[7, 3, 0] 0.9696351203854966\n",
      "[7, 3, 1] 0.9696527589986236\n",
      "[7, 3, 2] 0.9696568177004271\n",
      "[7, 3, 3] 0.9696538100643365\n",
      "[7, 3, 4] 0.9696463844178129\n",
      "[7, 3, 5] 0.969635357709042\n",
      "[7, 3, 6] 0.9696230982862563\n",
      "[7, 3, 7] 0.9696098971933562\n",
      "[7, 3, 8] 0.9695967551772063\n",
      "[7, 3, 9] 0.9695829875965214\n",
      "[7, 3, 10] 0.9695693368791111\n"
     ]
    }
   ],
   "source": [
    "for i in range(11):\n",
    "    weights = [7, 3, i]\n",
    "    t = dfs_val[0][L: R].y_pred * weights[0]\n",
    "    for i in range(1, len(dfs_val)):\n",
    "        t += dfs_val[1][L: R].y_pred * weights[i]\n",
    "    print(weights, roc_auc_score(dfs_val[0][L: R].y, t))"
   ]
  },
  {
   "cell_type": "code",
   "execution_count": 16,
   "metadata": {},
   "outputs": [],
   "source": [
    "weights = [7, 3, 1]\n",
    "weights = weights / np.sum(weights)"
   ]
  },
  {
   "cell_type": "code",
   "execution_count": 17,
   "metadata": {},
   "outputs": [],
   "source": [
    "df = pd.DataFrame({'click_id': dfs_test[0].click_id.astype(int).values, 'is_attributed': np.zeros(dfs_test[0].shape[0])})"
   ]
  },
  {
   "cell_type": "code",
   "execution_count": 18,
   "metadata": {},
   "outputs": [],
   "source": [
    "for tdf, weight in zip(dfs_test, weights):\n",
    "    df['is_attributed'] += tdf['is_attributed'] * weight"
   ]
  },
  {
   "cell_type": "code",
   "execution_count": 19,
   "metadata": {},
   "outputs": [],
   "source": [
    "df.to_csv('../data/blend.csv.gz', compression='gzip', index=False)"
   ]
  },
  {
   "cell_type": "code",
   "execution_count": 21,
   "metadata": {},
   "outputs": [
    {
     "data": {
      "text/html": [
       "<div>\n",
       "<style scoped>\n",
       "    .dataframe tbody tr th:only-of-type {\n",
       "        vertical-align: middle;\n",
       "    }\n",
       "\n",
       "    .dataframe tbody tr th {\n",
       "        vertical-align: top;\n",
       "    }\n",
       "\n",
       "    .dataframe thead th {\n",
       "        text-align: right;\n",
       "    }\n",
       "</style>\n",
       "<table border=\"1\" class=\"dataframe\">\n",
       "  <thead>\n",
       "    <tr style=\"text-align: right;\">\n",
       "      <th></th>\n",
       "      <th>click_id</th>\n",
       "      <th>is_attributed</th>\n",
       "    </tr>\n",
       "  </thead>\n",
       "  <tbody>\n",
       "  </tbody>\n",
       "</table>\n",
       "</div>"
      ],
      "text/plain": [
       "Empty DataFrame\n",
       "Columns: [click_id, is_attributed]\n",
       "Index: []"
      ]
     },
     "execution_count": 21,
     "metadata": {},
     "output_type": "execute_result"
    }
   ],
   "source": [
    "df[df.is_attributed > 1]"
   ]
  },
  {
   "cell_type": "code",
   "execution_count": null,
   "metadata": {},
   "outputs": [],
   "source": []
  }
 ],
 "metadata": {
  "kernelspec": {
   "display_name": "Python 3",
   "language": "python",
   "name": "python3"
  },
  "language_info": {
   "codemirror_mode": {
    "name": "ipython",
    "version": 3
   },
   "file_extension": ".py",
   "mimetype": "text/x-python",
   "name": "python",
   "nbconvert_exporter": "python",
   "pygments_lexer": "ipython3",
   "version": "3.6.4"
  }
 },
 "nbformat": 4,
 "nbformat_minor": 2
}
