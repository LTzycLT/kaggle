{
 "cells": [
  {
   "cell_type": "code",
   "execution_count": 2,
   "metadata": {
    "collapsed": false
   },
   "outputs": [],
   "source": [
    "import pandas as  pd\n",
    "import numpy as np\n",
    "from sklearn import linear_model\n",
    "from sklearn.cross_validation import train_test_split\n",
    "from sklearn import metrics\n",
    "from sklearn.cross_validation import KFold\n",
    "from sklearn import ensemble\n",
    "from sklearn import preprocessing"
   ]
  },
  {
   "cell_type": "code",
   "execution_count": 3,
   "metadata": {
    "collapsed": false
   },
   "outputs": [],
   "source": [
    "df = pd.read_csv('training21_38.arff', header=None)"
   ]
  },
  {
   "cell_type": "code",
   "execution_count": 4,
   "metadata": {
    "collapsed": false
   },
   "outputs": [],
   "source": [
    "y = df[92].astype(int).values\n",
    "X = df.drop(92, axis=1).astype(int).values\n",
    "\n",
    "#scaler = preprocessing.StandardScaler()\n",
    "#X = scaler.fit_transform(X)"
   ]
  },
  {
   "cell_type": "code",
   "execution_count": 7,
   "metadata": {
    "collapsed": false
   },
   "outputs": [
    {
     "name": "stdout",
     "output_type": "stream",
     "text": [
      "FPR 0.0716864363074\n",
      "AUC 0.983242274278; PRECISION 0.944386149003; RECALL 0.928313563693\n",
      "FPR 0.0681592039801\n",
      "AUC 0.981637132315; PRECISION 0.939789262418; RECALL 0.93184079602\n",
      "FPR 0.064681724846\n",
      "AUC 0.984516316906; PRECISION 0.935798664612; RECALL 0.935318275154\n",
      "FPR 0.051567239636\n",
      "AUC 0.986154625474; PRECISION 0.941767068273; RECALL 0.948432760364\n",
      "FPR 0.0640640640641\n",
      "AUC 0.98280111869; PRECISION 0.943015632879; RECALL 0.935935935936\n",
      "FPR 0.0567237163814\n",
      "AUC 0.982351101241; PRECISION 0.93960058451; RECALL 0.943276283619\n",
      "FPR 0.0723847297967\n",
      "AUC 0.979822638228; PRECISION 0.942569269521; RECALL 0.927615270203\n",
      "FPR 0.0668647845468\n",
      "AUC 0.981886240673; PRECISION 0.943887775551; RECALL 0.933135215453\n",
      "FPR 0.070243902439\n",
      "AUC 0.980793555788; PRECISION 0.94731610338; RECALL 0.929756097561\n",
      "FPR 0.0646741793239\n",
      "AUC 0.980767672385; PRECISION 0.945517582962; RECALL 0.935325820676\n"
     ]
    }
   ],
   "source": [
    "#model = linear_model.LogisticRegressionCV()\n",
    "model = ensemble.RandomForestClassifier(100)\n",
    "#model = ensemble.GradientBoostingClassifier()\n",
    "kf = KFold(X.shape[0], n_folds=10, random_state=123, shuffle=True)\n",
    "for train_index, test_index in kf:\n",
    "    X_train = X[train_index]\n",
    "    y_train = y[train_index]\n",
    "    X_test = X[test_index]\n",
    "    y_test = y[test_index]\n",
    "    model.fit(X_train, y_train)\n",
    "    y_prob = model.predict_proba(X_test)[:,1]\n",
    "    y_pred = model.predict(X_test)\n",
    "    cm = metrics.confusion_matrix(y_test, y_pred)\n",
    "    print(\"FPR %s\"  % (cm[1][0] * 1.0/ (cm[1][0] + cm[1][1])))\n",
    "    fpr, tpr, thresholds = metrics.roc_curve(y_test, y_prob)\n",
    "    print(\"AUC %s; PRECISION %s; RECALL %s\" % (metrics.auc(fpr, tpr), metrics.precision_score(y_test, y_pred), metrics.recall_score(y_test, y_pred)))"
   ]
  },
  {
   "cell_type": "code",
   "execution_count": 41,
   "metadata": {
    "collapsed": false
   },
   "outputs": [],
   "source": []
  },
  {
   "cell_type": "code",
   "execution_count": 42,
   "metadata": {
    "collapsed": false
   },
   "outputs": [],
   "source": []
  },
  {
   "cell_type": "code",
   "execution_count": 43,
   "metadata": {
    "collapsed": false
   },
   "outputs": [
    {
     "data": {
      "text/plain": [
       "28048"
      ]
     },
     "execution_count": 43,
     "metadata": {},
     "output_type": "execute_result"
    }
   ],
   "source": [
    "len(y_pred)\n",
    "len(y_test)"
   ]
  },
  {
   "cell_type": "code",
   "execution_count": 44,
   "metadata": {
    "collapsed": false
   },
   "outputs": [
    {
     "name": "stderr",
     "output_type": "stream",
     "text": [
      "/home/zyc/anaconda2/lib/python2.7/site-packages/sklearn/metrics/ranking.py:538: UndefinedMetricWarning: No positive samples in y_true, true positive value should be meaningless\n",
      "  UndefinedMetricWarning)\n"
     ]
    },
    {
     "data": {
      "text/plain": [
       "nan"
      ]
     },
     "execution_count": 44,
     "metadata": {},
     "output_type": "execute_result"
    }
   ],
   "source": []
  },
  {
   "cell_type": "code",
   "execution_count": null,
   "metadata": {
    "collapsed": true
   },
   "outputs": [],
   "source": []
  }
 ],
 "metadata": {
  "anaconda-cloud": {},
  "kernelspec": {
   "display_name": "Python [default]",
   "language": "python",
   "name": "python2"
  },
  "language_info": {
   "codemirror_mode": {
    "name": "ipython",
    "version": 2
   },
   "file_extension": ".py",
   "mimetype": "text/x-python",
   "name": "python",
   "nbconvert_exporter": "python",
   "pygments_lexer": "ipython2",
   "version": "2.7.12"
  }
 },
 "nbformat": 4,
 "nbformat_minor": 1
}
