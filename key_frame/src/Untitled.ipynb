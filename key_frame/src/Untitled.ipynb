{
 "cells": [
  {
   "cell_type": "code",
   "execution_count": 1,
   "metadata": {
    "collapsed": true
   },
   "outputs": [],
   "source": [
    "import pandas as pd\n",
    "import numpy as np"
   ]
  },
  {
   "cell_type": "code",
   "execution_count": 2,
   "metadata": {
    "collapsed": false
   },
   "outputs": [
    {
     "name": "stderr",
     "output_type": "stream",
     "text": [
      "/home/zyc/.local/lib/python2.7/site-packages/sklearn/cross_validation.py:44: DeprecationWarning: This module was deprecated in version 0.18 in favor of the model_selection module into which all the refactored classes and functions are moved. Also note that the interface of the new CV iterators are different from that of this module. This module will be removed in 0.20.\n",
      "  \"This module will be removed in 0.20.\", DeprecationWarning)\n"
     ]
    }
   ],
   "source": [
    "import xgboost \n",
    "from lightgbm import LGBMClassifier\n",
    "from sklearn.svm import SVC\n",
    "from sklearn.model_selection import KFold\n",
    "from sklearn import metrics\n",
    "from sklearn.linear_model import LogisticRegression"
   ]
  },
  {
   "cell_type": "code",
   "execution_count": 3,
   "metadata": {
    "collapsed": false
   },
   "outputs": [],
   "source": [
    "df = pd.read_csv('../csv/Key_Frame2_first_train.csv')"
   ]
  },
  {
   "cell_type": "code",
   "execution_count": 4,
   "metadata": {
    "collapsed": false
   },
   "outputs": [],
   "source": [
    "df_X_raw = df.drop('C1', axis=1)\n",
    "\n",
    "y = df['C1']\n",
    "X_raw = df_X_raw.astype(float).values"
   ]
  },
  {
   "cell_type": "code",
   "execution_count": 6,
   "metadata": {
    "collapsed": false
   },
   "outputs": [],
   "source": [
    "basemodel = xgboost.XGBClassifier()\n",
    "basemodel.fit(X_raw, y)\n",
    "fs = [(i, v) for i, v in enumerate(basemodel.feature_importances_)]\n",
    "fs.sort(key=lambda o: o[1], reverse=True)\n",
    "fs = fs[0:100]"
   ]
  },
  {
   "cell_type": "code",
   "execution_count": 7,
   "metadata": {
    "collapsed": false
   },
   "outputs": [],
   "source": [
    "df_final = pd.read_csv('../csv/Key_Frame2_first_test.csv')\n",
    "df_X_final_raw = df_final.drop('C1', axis=1)\n",
    "X_final = df_X_final_raw[df_X_final_raw.columns[[o[0] for o in fs]]].astype(float).values\n",
    "y_final = df_final['C1']"
   ]
  },
  {
   "cell_type": "code",
   "execution_count": 8,
   "metadata": {
    "collapsed": false
   },
   "outputs": [],
   "source": [
    "X = df_X_raw[df_X_raw.columns[[o[0] for o in fs]]].astype(float).values"
   ]
  },
  {
   "cell_type": "code",
   "execution_count": 77,
   "metadata": {
    "collapsed": false
   },
   "outputs": [],
   "source": [
    "import time\n",
    "k = 50\n",
    "kf = KFold(k, random_state=time.time())"
   ]
  },
  {
   "cell_type": "code",
   "execution_count": 78,
   "metadata": {
    "collapsed": true
   },
   "outputs": [],
   "source": [
    "def auc(y, y_pred):\n",
    "    fpr, tpr, thresholds = metrics.roc_curve(y, y_pred)\n",
    "    return metrics.auc(fpr, tpr)"
   ]
  },
  {
   "cell_type": "code",
   "execution_count": 79,
   "metadata": {
    "collapsed": false
   },
   "outputs": [],
   "source": [
    "train_auc, test_auc = 0, 0\n",
    "mat = np.zeros((X.shape[0], 2))\n",
    "mat_test = np.zeros((X_final.shape[0], 2))\n",
    "for train_indices, test_indices in kf.split(X):\n",
    "    X_train, X_test, y_train, y_test = X[train_indices], X[test_indices], y[train_indices], y[test_indices]\n",
    "    \n",
    "    ms = [xgboost.XGBClassifier(**{'max_depth': 4}), \n",
    "          LogisticRegression(penalty='l2', dual=False),\n",
    "          #LogisticRegression(penalty='l2', dual=True),\n",
    "          #LogisticRegression(penalty='l1'),\n",
    "          #LGBMClassifier(), \n",
    "          #SVC(probability=True)\n",
    "         ]\n",
    "    for i, m in enumerate(ms):\n",
    "        m.fit(X_train, y_train)\n",
    "        for j, yy in enumerate(m.predict_proba(X_test)[:, 1]):\n",
    "            mat[test_indices[j]][i] = yy \n",
    "        \n",
    "        for j, yy in enumerate(m.predict_proba(X_final)[:, 1]):\n",
    "            mat_test[j][i] += yy \n",
    "mat_test /= k"
   ]
  },
  {
   "cell_type": "code",
   "execution_count": 80,
   "metadata": {
    "collapsed": false
   },
   "outputs": [
    {
     "data": {
      "text/plain": [
       "(0.81902248418362633, 0.81042027543606521)"
      ]
     },
     "execution_count": 80,
     "metadata": {},
     "output_type": "execute_result"
    }
   ],
   "source": [
    "train_auc, test_auc = 0, 0\n",
    "for train_indices, test_indices in kf.split(mat):\n",
    "    X_train, X_test, y_train, y_test = mat[train_indices], mat[test_indices], y[train_indices], y[test_indices]\n",
    "    m = LogisticRegression()\n",
    "    m.fit(X_train, y_train)\n",
    "    train_auc += auc(y_train, m.predict_proba(X_train)[:, 1])\n",
    "    test_auc += auc(y_test, m.predict_proba(X_test)[:, 1])\n",
    "train_auc / k, test_auc / k"
   ]
  },
  {
   "cell_type": "code",
   "execution_count": 81,
   "metadata": {
    "collapsed": false
   },
   "outputs": [
    {
     "name": "stdout",
     "output_type": "stream",
     "text": [
      "0.819010189307\n",
      "0.79797979798\n"
     ]
    }
   ],
   "source": [
    "s = LogisticRegression()\n",
    "s.fit(mat, y)\n",
    "print auc(y, s.predict_proba(mat)[:, 1])\n",
    "print auc(y_final, s.predict_proba(mat_test)[:, 1])"
   ]
  },
  {
   "cell_type": "code",
   "execution_count": null,
   "metadata": {
    "collapsed": true
   },
   "outputs": [],
   "source": []
  },
  {
   "cell_type": "code",
   "execution_count": 12,
   "metadata": {
    "collapsed": false
   },
   "outputs": [],
   "source": [
    "mat = np.zeros((X_final.shape[0], 4))\n",
    "for i, m in enumerate(ms):\n",
    "    y_final_pred = m.predict_proba(X_final)[:, 1]\n",
    "    for j, yy in enumerate(y_final_pred):\n",
    "        mat[j][i] = yy"
   ]
  },
  {
   "cell_type": "code",
   "execution_count": 13,
   "metadata": {
    "collapsed": false
   },
   "outputs": [
    {
     "data": {
      "text/plain": [
       "0.77962962962962967"
      ]
     },
     "execution_count": 13,
     "metadata": {},
     "output_type": "execute_result"
    }
   ],
   "source": [
    "auc(y_final, stacking.predict_proba(mat)[:, 1])"
   ]
  },
  {
   "cell_type": "code",
   "execution_count": null,
   "metadata": {
    "collapsed": true
   },
   "outputs": [],
   "source": []
  },
  {
   "cell_type": "code",
   "execution_count": 233,
   "metadata": {
    "collapsed": true
   },
   "outputs": [],
   "source": [
    "m = xgboost.XGBClassifier()"
   ]
  },
  {
   "cell_type": "code",
   "execution_count": 234,
   "metadata": {
    "collapsed": false
   },
   "outputs": [
    {
     "data": {
      "text/plain": [
       "XGBClassifier(base_score=0.5, colsample_bylevel=1, colsample_bytree=1,\n",
       "       gamma=0, learning_rate=0.1, max_delta_step=0, max_depth=3,\n",
       "       min_child_weight=1, missing=None, n_estimators=100, nthread=-1,\n",
       "       objective='binary:logistic', reg_alpha=0, reg_lambda=1,\n",
       "       scale_pos_weight=1, seed=0, silent=True, subsample=1)"
      ]
     },
     "execution_count": 234,
     "metadata": {},
     "output_type": "execute_result"
    }
   ],
   "source": [
    "m.fit(X, y)"
   ]
  },
  {
   "cell_type": "code",
   "execution_count": 236,
   "metadata": {
    "collapsed": false
   },
   "outputs": [
    {
     "data": {
      "text/plain": [
       "0.59629629629629632"
      ]
     },
     "execution_count": 236,
     "metadata": {},
     "output_type": "execute_result"
    }
   ],
   "source": [
    "auc(y_final, m.predict_proba(df_X_final_raw.astype(float).values)[:, 1])"
   ]
  },
  {
   "cell_type": "code",
   "execution_count": null,
   "metadata": {
    "collapsed": true
   },
   "outputs": [],
   "source": []
  }
 ],
 "metadata": {
  "anaconda-cloud": {},
  "kernelspec": {
   "display_name": "Python [default]",
   "language": "python",
   "name": "python2"
  },
  "language_info": {
   "codemirror_mode": {
    "name": "ipython",
    "version": 2
   },
   "file_extension": ".py",
   "mimetype": "text/x-python",
   "name": "python",
   "nbconvert_exporter": "python",
   "pygments_lexer": "ipython2",
   "version": "2.7.12"
  }
 },
 "nbformat": 4,
 "nbformat_minor": 1
}
