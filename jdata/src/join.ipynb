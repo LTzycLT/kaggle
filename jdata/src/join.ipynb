{
 "cells": [
  {
   "cell_type": "code",
   "execution_count": 7,
   "metadata": {
    "collapsed": true
   },
   "outputs": [],
   "source": [
    "import pandas as pd"
   ]
  },
  {
   "cell_type": "code",
   "execution_count": 8,
   "metadata": {
    "collapsed": true
   },
   "outputs": [],
   "source": [
    "comment = pd.read_csv('../data/csv/JData_Comment.csv').T.to_dict().values()\n",
    "comment = {c['sku_id']: c for c in comment}"
   ]
  },
  {
   "cell_type": "code",
   "execution_count": 9,
   "metadata": {
    "collapsed": true
   },
   "outputs": [],
   "source": [
    "product = pd.read_csv('../data/csv/JData_Product.csv').T.to_dict().values()\n",
    "product = {p['sku_id']: p for p in product}"
   ]
  },
  {
   "cell_type": "code",
   "execution_count": 10,
   "metadata": {
    "collapsed": true
   },
   "outputs": [],
   "source": [
    "user = pd.read_csv('../data/csv/JData_User.csv').T.to_dict().values()\n",
    "user = {u['user_id']: u for u in user}"
   ]
  },
  {
   "cell_type": "code",
   "execution_count": 4,
   "metadata": {
    "collapsed": false
   },
   "outputs": [],
   "source": [
    "cate_supplement = {}\n",
    "\n",
    "with open('../data/csv/JData_Action_All.csv') as f:\n",
    "    for i, line in enumerate(f):\n",
    "        if i == 0: continue\n",
    "        else:\n",
    "            items = line.strip().split(',')\n",
    "            if items[1] in cate_supplement:\n",
    "                if cate_supplement[items[1]] != (items[-2], items[-1]):\n",
    "                    assert(False)\n",
    "            cate_supplement[items[1]] = (items[-2], items[-1])"
   ]
  },
  {
   "cell_type": "code",
   "execution_count": 6,
   "metadata": {
    "collapsed": false
   },
   "outputs": [
    {
     "data": {
      "text/plain": [
       "28710"
      ]
     },
     "execution_count": 6,
     "metadata": {},
     "output_type": "execute_result"
    }
   ],
   "source": [
    "with open('../data/csv/JData_Action_All.csv') as f:\n",
    "    for i, line in enumerate(f):\n",
    "        items = line.strip().split(',')\n",
    "        if items[1] in cate_supplement:\n",
    "            if cate_supplement[items[1]] != (items[-2], items[-1]):\n",
    "                assert(False)\n",
    "        cate_supplement[items[1]] = (items[-2], items[-1]))"
   ]
  },
  {
   "cell_type": "code",
   "execution_count": null,
   "metadata": {
    "collapsed": true
   },
   "outputs": [],
   "source": [
    "purchase_history = {}\n",
    "with open('../data/csv/JData_Action_All.csv') as f:\n",
    "    for i, line in enumerate(f):\n",
    "        items = line.strip().split(',')"
   ]
  },
  {
   "cell_type": "code",
   "execution_count": null,
   "metadata": {
    "collapsed": true
   },
   "outputs": [],
   "source": [
    "cate_history = {}"
   ]
  },
  {
   "cell_type": "code",
   "execution_count": null,
   "metadata": {
    "collapsed": true
   },
   "outputs": [],
   "source": []
  }
 ],
 "metadata": {
  "kernelspec": {
   "display_name": "Python [default]",
   "language": "python",
   "name": "python2"
  },
  "language_info": {
   "codemirror_mode": {
    "name": "ipython",
    "version": 2
   },
   "file_extension": ".py",
   "mimetype": "text/x-python",
   "name": "python",
   "nbconvert_exporter": "python",
   "pygments_lexer": "ipython2",
   "version": "2.7.12"
  }
 },
 "nbformat": 4,
 "nbformat_minor": 1
}
