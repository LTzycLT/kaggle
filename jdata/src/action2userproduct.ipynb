{
 "cells": [
  {
   "cell_type": "code",
   "execution_count": null,
   "metadata": {
    "collapsed": true
   },
   "outputs": [],
   "source": [
    "categorical = [\n",
    "    'age': 8,\n",
    "    'sex': 3,\n",
    "    'user_lv_cd': 6,\n",
    "    'user_id': 100000,\n",
    "    'sku_id': 30000, # only in P , others set 0\n",
    "    'brand':10\n",
    "    'cate':442\n",
    "    'model_id': 100\n",
    "    \n",
    "    \n",
    "    'time':\n",
    "    ''\n",
    "    \n",
    "    'dt': 10\n",
    "    'a1':10\n",
    "    'a2':10\n",
    "    'a3':10\n",
    "    'comment_num':10\n",
    "    'has_bad_comment': 2\n",
    "    \n",
    "]\n"
   ]
  },
  {
   "cell_type": "code",
   "execution_count": 1,
   "metadata": {
    "collapsed": true
   },
   "outputs": [],
   "source": [
    "from collections import defaultdict\n",
    "import json"
   ]
  },
  {
   "cell_type": "code",
   "execution_count": 2,
   "metadata": {
    "collapsed": true
   },
   "outputs": [],
   "source": [
    "P = set()\n",
    "with open('../data/csv/JData_Product.csv') as f:\n",
    "    for i, line in enumerate(f):\n",
    "        if i == 0: continue\n",
    "        items = line.strip().split(',')\n",
    "        P.add(items[0])"
   ]
  },
  {
   "cell_type": "code",
   "execution_count": 3,
   "metadata": {
    "collapsed": false
   },
   "outputs": [],
   "source": [
    "res = defaultdict(list)\n",
    "with open('../data/csv/JData_Action_All.csv') as f:\n",
    "    for i, line in enumerate(f):\n",
    "        items = line.strip().split(',')\n",
    "        if items[1] in P:\n",
    "            res[(items[0], items[1])].append(items)"
   ]
  },
  {
   "cell_type": "code",
   "execution_count": 4,
   "metadata": {
    "collapsed": false
   },
   "outputs": [],
   "source": [
    "import datetime\n",
    "d = None\n",
    "\n",
    "seconds_in_day = 3600 * 24\n",
    "seconds_marks = [3600, 3 * 3600, 15 * 3600, 31 * 3600, 63 * 3600, 127 * 3600, 255 * 2600, 511 * 3600, 1023 * 3600, float('inf')]\n",
    "start_date = datetime.datetime.strptime('2016-01-01', '%Y-%m-%d')\n",
    "def time2ds(time):\n",
    "    delta = (datetime.datetime.strptime(time, '%Y-%m-%d %H:%M:%S') - start_date)\n",
    "    return delta.days, delta.seconds\n",
    "def time2s(time):\n",
    "    d, s = time2ds(time)\n",
    "    return d * seconds_in_day + s"
   ]
  },
  {
   "cell_type": "code",
   "execution_count": 5,
   "metadata": {
    "collapsed": false
   },
   "outputs": [],
   "source": [
    "from collections import defaultdict\n",
    "def transform(key, a, start_ts, end_ts):\n",
    "    a.sort(key=lambda o: o[2])\n",
    "    \n",
    "    info = {'user_id': key[0], 'sku_id': key[1], 'label': 0, 'interval_actions': [defaultdict(int) for i in range(len(seconds_marks))]} \n",
    "    k = len(seconds_marks) - 1\n",
    "    for i, aa in enumerate(a):\n",
    "        ts = time2s(aa[2])\n",
    "        if ts < start_ts:\n",
    "            while k >= 1 and start_ts - ts <= seconds_marks[k - 1]: k -= 1\n",
    "            name = aa[4]\n",
    "            #if aa[4] == '6': name = '6_%s' % aa[3]\n",
    "            info['interval_actions'][k][name] += 1 \n",
    "        elif ts < end_ts:\n",
    "            if aa[4] == '4': info['label'] = 1\n",
    "        else:\n",
    "            pass\n",
    "    return info"
   ]
  },
  {
   "cell_type": "code",
   "execution_count": 6,
   "metadata": {
    "collapsed": false
   },
   "outputs": [],
   "source": [
    "from __future__ import print_function\n",
    "with open('../data/action_11_16.json', 'w') as f:\n",
    "    for i, (k, v) in enumerate(res.iteritems()):\n",
    "        obj = transform(k, v, time2s('2016-04-11 00:00:00'), time2s('2016-04-16 00:00:00'))\n",
    "        print(json.dumps(obj), file=f)"
   ]
  },
  {
   "cell_type": "code",
   "execution_count": 7,
   "metadata": {
    "collapsed": true
   },
   "outputs": [],
   "source": [
    "with open('../data/action_16_21.json', 'w') as f:\n",
    "    for i, (k, v) in enumerate(res.iteritems()):\n",
    "        obj = transform(k, v, time2s('2016-04-16 00:00:00'), time2s('2016-04-21 00:00:00'))\n",
    "        print(json.dumps(obj), file=f)"
   ]
  },
  {
   "cell_type": "code",
   "execution_count": 8,
   "metadata": {
    "collapsed": true
   },
   "outputs": [],
   "source": [
    "with open('../data/action_06_11.json', 'w') as f:\n",
    "    for i, (k, v) in enumerate(res.iteritems()):\n",
    "        obj = transform(k, v, time2s('2016-04-06 00:00:00'), time2s('2016-04-11 00:00:00'))\n",
    "        print(json.dumps(obj), file=f)"
   ]
  },
  {
   "cell_type": "code",
   "execution_count": 9,
   "metadata": {
    "collapsed": true
   },
   "outputs": [],
   "source": [
    "with open('../data/action_04_09.json', 'w') as f:\n",
    "    for i, (k, v) in enumerate(res.iteritems()):\n",
    "        obj = transform(k, v, time2s('2016-04-04 00:00:00'), time2s('2016-04-09 00:00:00'))\n",
    "        print(json.dumps(obj), file=f)"
   ]
  },
  {
   "cell_type": "code",
   "execution_count": null,
   "metadata": {
    "collapsed": true
   },
   "outputs": [],
   "source": []
  }
 ],
 "metadata": {
  "anaconda-cloud": {},
  "kernelspec": {
   "display_name": "Python [default]",
   "language": "python",
   "name": "python2"
  },
  "language_info": {
   "codemirror_mode": {
    "name": "ipython",
    "version": 2
   },
   "file_extension": ".py",
   "mimetype": "text/x-python",
   "name": "python",
   "nbconvert_exporter": "python",
   "pygments_lexer": "ipython2",
   "version": "2.7.12"
  }
 },
 "nbformat": 4,
 "nbformat_minor": 1
}
