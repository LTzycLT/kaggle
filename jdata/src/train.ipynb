{
 "cells": [
  {
   "cell_type": "code",
   "execution_count": 69,
   "metadata": {
    "collapsed": true
   },
   "outputs": [],
   "source": [
    "import json\n",
    "lines = open('../data/feature_map.json').readlines()\n",
    "fm = json.loads(lines[0])\n",
    "fm_inverse = {v: k for k, v in fm.iteritems()}\n",
    "#fuser = json.loads(lines[1])\n",
    "#fsku = json.loads(lines[2])"
   ]
  },
  {
   "cell_type": "code",
   "execution_count": 93,
   "metadata": {
    "collapsed": false
   },
   "outputs": [],
   "source": [
    "from scipy.sparse import csr_matrix\n",
    "\n",
    "def construct(fpath):\n",
    "    row, col, val = [], [], []\n",
    "    user_id, sku_id = [], []\n",
    "    y = []\n",
    "    \n",
    "    with open(fpath) as f:\n",
    "        for i, line in enumerate(f):\n",
    "            obj = json.loads(line)\n",
    "            user_id.append(str(int(float(obj['user_id']))))\n",
    "            sku_id.append(str(obj['sku_id']))\n",
    "            #if user_id[-1] in fuser:\n",
    "            #    for k, v in fuser[user_id[-1]].iteritems():\n",
    "            #        row.append(i)\n",
    "            #        col.append(k)\n",
    "            #        val.append(v)\n",
    "            #if sku_id[-1] in fsku:\n",
    "            #    for k, v in fsku[sku_id[-1]].iteritems():\n",
    "            #        row.append(i)\n",
    "            #        col.append(k)\n",
    "            #        val.append(v)\n",
    "            y.append(obj['label'])\n",
    "            for j, o in enumerate(obj['interval_actions']):\n",
    "                for k, v in o.iteritems():\n",
    "                    if k == '6':\n",
    "                        row.append(i)\n",
    "                        col.append(fm['action_%s_%s' % (j, k)])\n",
    "                        val.append(v)\n",
    "    return user_id, sku_id, y, csr_matrix((val, (row, col)), shape=(len(y), len(fm)))"
   ]
  },
  {
   "cell_type": "code",
   "execution_count": 94,
   "metadata": {
    "collapsed": false
   },
   "outputs": [],
   "source": [
    "X_user_id, X_sku_id, X_y, X = construct('../data/action_04_09.json')\n",
    "T_user_id, T_sku_id, T_y, T = construct('../data/action_11_16.json')\n",
    "#Z_user_id, Z_sku_id, zzzzz, Z = construct('../data/action_16_21.json')"
   ]
  },
  {
   "cell_type": "code",
   "execution_count": 85,
   "metadata": {
    "collapsed": true
   },
   "outputs": [],
   "source": [
    "from sklearn.model_selection import train_test_split\n",
    "X_train, X_test, y_train, y_test = train_test_split(X, X_y, test_size=0.33, random_state=2333)"
   ]
  },
  {
   "cell_type": "code",
   "execution_count": 86,
   "metadata": {
    "collapsed": false
   },
   "outputs": [],
   "source": [
    "from sklearn.linear_model import LogisticRegression\n",
    "from xgboost import XGBClassifier\n",
    "model = XGBClassifier()\n",
    "model_X = XGBClassifier()\n",
    "model_T= XGBClassifier()\n",
    "#model = LogisticRegression()"
   ]
  },
  {
   "cell_type": "code",
   "execution_count": 87,
   "metadata": {
    "collapsed": false
   },
   "outputs": [
    {
     "name": "stdout",
     "output_type": "stream",
     "text": [
      "0.82396222886\n",
      "0.798319949224\n"
     ]
    }
   ],
   "source": [
    "model.fit(X_train, y_train)\n",
    "from sklearn import metrics\n",
    "pred_train = model.predict_proba(X_train)\n",
    "pred_test = model.predict_proba(X_test)\n",
    "fpr, tpr, thresholds = metrics.roc_curve(y_train, pred_train[:,1])\n",
    "print(metrics.auc(fpr, tpr))\n",
    "fpr, tpr, thresholds = metrics.roc_curve(y_test, pred_test[:,1])\n",
    "print(metrics.auc(fpr, tpr))"
   ]
  },
  {
   "cell_type": "code",
   "execution_count": 95,
   "metadata": {
    "collapsed": false
   },
   "outputs": [
    {
     "data": {
      "text/plain": [
       "XGBClassifier(base_score=0.5, colsample_bylevel=1, colsample_bytree=1,\n",
       "       gamma=0, learning_rate=0.1, max_delta_step=0, max_depth=3,\n",
       "       min_child_weight=1, missing=None, n_estimators=100, nthread=-1,\n",
       "       objective='binary:logistic', reg_alpha=0, reg_lambda=1,\n",
       "       scale_pos_weight=1, seed=0, silent=True, subsample=1)"
      ]
     },
     "execution_count": 95,
     "metadata": {},
     "output_type": "execute_result"
    }
   ],
   "source": [
    "model_T.fit(T, T_y)\n",
    "model_X.fit(X, X_y)"
   ]
  },
  {
   "cell_type": "code",
   "execution_count": 89,
   "metadata": {
    "collapsed": false
   },
   "outputs": [],
   "source": [
    "def top_features(m, n = 20):\n",
    "    fs = [(fm_inverse[i], v) for i, v in enumerate(m.feature_importances_)]\n",
    "    fs.sort(key=lambda o: o[1], reverse=True)\n",
    "    return fs[0: n]"
   ]
  },
  {
   "cell_type": "code",
   "execution_count": 96,
   "metadata": {
    "collapsed": false
   },
   "outputs": [
    {
     "data": {
      "text/plain": [
       "[(u'action_2_6', 0.21354933),\n",
       " (u'action_7_6', 0.16936672),\n",
       " (u'action_8_6', 0.15022092),\n",
       " (u'action_4_6', 0.12371134),\n",
       " (u'action_9_6', 0.1089838),\n",
       " (u'action_1_6', 0.075110458),\n",
       " (u'action_5_6', 0.073637702),\n",
       " (u'action_6_6', 0.03976436),\n",
       " (u'action_0_6', 0.029455081),\n",
       " (u'action_3_6', 0.016200295),\n",
       " (u'action_9_5', 0.0),\n",
       " (u'action_9_4', 0.0),\n",
       " (u'action_9_1', 0.0),\n",
       " (u'action_9_3', 0.0),\n",
       " (u'action_9_2', 0.0),\n",
       " (u'action_8_4', 0.0),\n",
       " (u'action_8_5', 0.0),\n",
       " (u'action_8_1', 0.0),\n",
       " (u'action_8_2', 0.0),\n",
       " (u'action_8_3', 0.0)]"
      ]
     },
     "execution_count": 96,
     "metadata": {},
     "output_type": "execute_result"
    }
   ],
   "source": [
    "top_features(model_T, n = 20)"
   ]
  },
  {
   "cell_type": "code",
   "execution_count": 97,
   "metadata": {
    "collapsed": false
   },
   "outputs": [
    {
     "data": {
      "text/plain": [
       "[(u'action_7_6', 0.20930232),\n",
       " (u'action_2_6', 0.20494185),\n",
       " (u'action_4_6', 0.16715117),\n",
       " (u'action_8_6', 0.1380814),\n",
       " (u'action_5_6', 0.08139535),\n",
       " (u'action_3_6', 0.072674416),\n",
       " (u'action_9_6', 0.049418606),\n",
       " (u'action_1_6', 0.042151164),\n",
       " (u'action_6_6', 0.024709303),\n",
       " (u'action_0_6', 0.010174419),\n",
       " (u'action_9_5', 0.0),\n",
       " (u'action_9_4', 0.0),\n",
       " (u'action_9_1', 0.0),\n",
       " (u'action_9_3', 0.0),\n",
       " (u'action_9_2', 0.0),\n",
       " (u'action_8_4', 0.0),\n",
       " (u'action_8_5', 0.0),\n",
       " (u'action_8_1', 0.0),\n",
       " (u'action_8_2', 0.0),\n",
       " (u'action_8_3', 0.0)]"
      ]
     },
     "execution_count": 97,
     "metadata": {},
     "output_type": "execute_result"
    }
   ],
   "source": [
    "top_features(model_X, n = 20)"
   ]
  },
  {
   "cell_type": "code",
   "execution_count": 92,
   "metadata": {
    "collapsed": false
   },
   "outputs": [
    {
     "data": {
      "text/plain": [
       "[(u'action_2_6', 0.18168168),\n",
       " (u'action_4_6', 0.17717718),\n",
       " (u'action_8_6', 0.13813815),\n",
       " (u'action_7_6', 0.13363363),\n",
       " (u'action_5_6', 0.1021021),\n",
       " (u'action_3_6', 0.1021021),\n",
       " (u'action_9_6', 0.061561562),\n",
       " (u'action_0_6', 0.061561562),\n",
       " (u'action_1_6', 0.025525525),\n",
       " (u'action_6_6', 0.016516516),\n",
       " (u'action_9_5', 0.0),\n",
       " (u'action_9_4', 0.0),\n",
       " (u'action_9_1', 0.0),\n",
       " (u'action_9_3', 0.0),\n",
       " (u'action_9_2', 0.0),\n",
       " (u'action_8_4', 0.0),\n",
       " (u'action_8_5', 0.0),\n",
       " (u'action_8_1', 0.0),\n",
       " (u'action_8_2', 0.0),\n",
       " (u'action_8_3', 0.0)]"
      ]
     },
     "execution_count": 92,
     "metadata": {},
     "output_type": "execute_result"
    }
   ],
   "source": [
    "top_features(model, n = 20)"
   ]
  },
  {
   "cell_type": "code",
   "execution_count": 98,
   "metadata": {
    "collapsed": false
   },
   "outputs": [
    {
     "data": {
      "text/plain": [
       "0.07919561881547288"
      ]
     },
     "execution_count": 98,
     "metadata": {},
     "output_type": "execute_result"
    }
   ],
   "source": [
    "X_pred = model_X.predict_proba(X)\n",
    "calculate_f(get_result(X_user_id, X_sku_id, X_pred, 0.02), build_target(X_user_id, X_sku_id, X_y))"
   ]
  },
  {
   "cell_type": "code",
   "execution_count": 99,
   "metadata": {
    "collapsed": false
   },
   "outputs": [
    {
     "data": {
      "text/plain": [
       "0.03802271396195666"
      ]
     },
     "execution_count": 99,
     "metadata": {},
     "output_type": "execute_result"
    }
   ],
   "source": [
    "T_pred = model_X.predict_proba(T)\n",
    "calculate_f(get_result(T_user_id, T_sku_id, T_pred, 0.02), build_target(T_user_id, T_sku_id, T_y))"
   ]
  },
  {
   "cell_type": "code",
   "execution_count": 21,
   "metadata": {
    "collapsed": false
   },
   "outputs": [],
   "source": [
    "from collections import defaultdict\n",
    "\n",
    "def build_target(user_id, sku_id, y):\n",
    "    target = defaultdict(set)\n",
    "    for user, sku, l in zip(user_id, sku_id, y):\n",
    "        if l == 1:\n",
    "            target[user].add(sku)\n",
    "    return target"
   ]
  },
  {
   "cell_type": "code",
   "execution_count": 22,
   "metadata": {
    "collapsed": true
   },
   "outputs": [],
   "source": [
    "def get_result(user_id, sku_id, pred, threshold):\n",
    "    src = {}\n",
    "    for user, sku, l in zip(user_id, sku_id, pred[:, 1]):\n",
    "        if l >= threshold:\n",
    "            if user in src:\n",
    "                if l > src[user][1]:\n",
    "                    src[user] = (sku, l)\n",
    "            else:\n",
    "                src[user] = (sku, l)\n",
    "    return src"
   ]
  },
  {
   "cell_type": "code",
   "execution_count": 23,
   "metadata": {
    "collapsed": false
   },
   "outputs": [],
   "source": [
    "def calculate_f(src, target):\n",
    "    f1p = len(set(src.keys()).intersection(set(target.keys()))) * 1.0 / len(src.keys()) \n",
    "    f1r = len(set(src.keys()).intersection(set(target.keys()))) * 1.0 / len(target.keys())\n",
    "    \n",
    "    c = 0\n",
    "    for k, v in src.items():\n",
    "        if v[0] in target.get(k, set()):\n",
    "            c += 1\n",
    "    f2p = c * 1.0 / len(src.keys())\n",
    "    f2r = c * 1.0 / len(target.keys())\n",
    "    \n",
    "    f1=6*f1r*f1p/(5*f1r+f1p)\n",
    "    f2=5*f2r*f2p/(2*f2r+3*f2p)\n",
    "    return 0.4*f1 + 0.6*f2"
   ]
  },
  {
   "cell_type": "code",
   "execution_count": 24,
   "metadata": {
    "collapsed": false
   },
   "outputs": [],
   "source": [
    "src = get_result(Z_user_id, Z_sku_id, model.predict_proba(Z), 0.02)"
   ]
  },
  {
   "cell_type": "code",
   "execution_count": 25,
   "metadata": {
    "collapsed": false
   },
   "outputs": [],
   "source": [
    "from __future__ import print_function\n",
    "\n",
    "with open('out.csv', 'w') as f:\n",
    "    print('user_id,sku_id', file=f)\n",
    "    for i, (k, v) in enumerate(src.iteritems()):\n",
    "        print('%s,%s' % (int(float(k)), v[0]), file=f)"
   ]
  },
  {
   "cell_type": "code",
   "execution_count": null,
   "metadata": {
    "collapsed": true
   },
   "outputs": [],
   "source": []
  }
 ],
 "metadata": {
  "anaconda-cloud": {},
  "kernelspec": {
   "display_name": "Python [default]",
   "language": "python",
   "name": "python2"
  },
  "language_info": {
   "codemirror_mode": {
    "name": "ipython",
    "version": 2
   },
   "file_extension": ".py",
   "mimetype": "text/x-python",
   "name": "python",
   "nbconvert_exporter": "python",
   "pygments_lexer": "ipython2",
   "version": "2.7.12"
  }
 },
 "nbformat": 4,
 "nbformat_minor": 1
}
