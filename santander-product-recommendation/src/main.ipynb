{
 "cells": [
  {
   "cell_type": "code",
   "execution_count": 1,
   "metadata": {
    "collapsed": true
   },
   "outputs": [],
   "source": [
    "from __future__ import print_function\n",
    "import pandas as pd\n",
    "import numpy as np"
   ]
  },
  {
   "cell_type": "code",
   "execution_count": 2,
   "metadata": {
    "collapsed": false
   },
   "outputs": [
    {
     "name": "stderr",
     "output_type": "stream",
     "text": [
      "/home/zyc/anaconda2/lib/python2.7/site-packages/IPython/core/interactiveshell.py:2717: DtypeWarning: Columns (5,8,11,15) have mixed types. Specify dtype option on import or set low_memory=False.\n",
      "  interactivity=interactivity, compiler=compiler, result=result)\n"
     ]
    }
   ],
   "source": [
    "df = pd.read_csv('../input/train_ver2.csv')\n",
    "\n",
    "#df_train = df[df.fecha_dato != '2016-05-28']\n",
    "#df_val = df[df.fecha_dato == '2016-05-28']\n",
    "\n",
    "cnames = list(df)"
   ]
  },
  {
   "cell_type": "code",
   "execution_count": 3,
   "metadata": {
    "collapsed": false
   },
   "outputs": [],
   "source": [
    "df = df.drop_duplicates(subset=['ncodpers'], keep='last')"
   ]
  },
  {
   "cell_type": "code",
   "execution_count": 4,
   "metadata": {
    "collapsed": true
   },
   "outputs": [],
   "source": [
    "preds = ['ind_ahor_fin_ult1', 'ind_aval_fin_ult1', 'ind_cco_fin_ult1',\n",
    "       'ind_cder_fin_ult1', 'ind_cno_fin_ult1', 'ind_ctju_fin_ult1',\n",
    "       'ind_ctma_fin_ult1', 'ind_ctop_fin_ult1', 'ind_ctpp_fin_ult1',\n",
    "       'ind_deco_fin_ult1', 'ind_deme_fin_ult1', 'ind_dela_fin_ult1',\n",
    "       'ind_ecue_fin_ult1', 'ind_fond_fin_ult1', 'ind_hip_fin_ult1',\n",
    "       'ind_plan_fin_ult1', 'ind_pres_fin_ult1', 'ind_reca_fin_ult1',\n",
    "       'ind_tjcr_fin_ult1', 'ind_valo_fin_ult1', 'ind_viv_fin_ult1',\n",
    "       'ind_nomina_ult1', 'ind_nom_pens_ult1', 'ind_recibo_ult1']\n",
    "fs =  ['ncodpers', 'fecha_dato', 'sexo', 'age', 'ind_actividad_cliente', 'renta', 'segmento']#, 'antiguedad'"
   ]
  },
  {
   "cell_type": "code",
   "execution_count": 5,
   "metadata": {
    "collapsed": false
   },
   "outputs": [],
   "source": [
    "df_fecha_dato = pd.get_dummies(df['fecha_dato'])\n",
    "df_sexo = pd.get_dummies(df['sexo'])\n",
    "df_age = pd.get_dummies(df['age'])\n",
    "df_segmento = pd.get_dummies(df['segmento'])\n",
    "features = pd.concat([df[fs + preds].drop(['fecha_dato', 'sexo', 'age', 'segmento'], axis=1), df_fecha_dato, df_sexo, df_age, df_segmento], axis=1)"
   ]
  },
  {
   "cell_type": "code",
   "execution_count": 6,
   "metadata": {
    "collapsed": false
   },
   "outputs": [
    {
     "name": "stdout",
     "output_type": "stream",
     "text": [
      "%s\t% ('ind_ahor_fin_ult1', 0.91950492135162953)\n",
      "%s\t% ('ind_aval_fin_ult1', 0.99305729415478738)\n",
      "%s\t% ('ind_cco_fin_ult1', 0.85713863825653491)\n",
      "%s\t% ('ind_cder_fin_ult1', 0.90722115373911816)\n",
      "%s\t% ('ind_cno_fin_ult1', 0.99082267006566926)\n",
      "%s\t% ('ind_ctju_fin_ult1', 0.99979563989489439)\n",
      "%s\t% ('ind_ctma_fin_ult1', 0.86717317351728918)\n",
      "%s\t% ('ind_ctop_fin_ult1', 0.84392890702132073)\n",
      "%s\t% ('ind_ctpp_fin_ult1', 0.85461670954753977)\n",
      "%s\t% ('ind_deco_fin_ult1', 0.95142352264931773)\n",
      "%s\t% ('ind_deme_fin_ult1', 0.93926735262377392)\n",
      "%s\t% ('ind_dela_fin_ult1', 0.94465877254969688)\n",
      "%s\t% ('ind_ecue_fin_ult1', 0.89304845376004871)\n",
      "%s\t% ('ind_fond_fin_ult1', 0.93040909709491126)\n",
      "%s\t% ('ind_hip_fin_ult1', 0.96216198619576287)\n",
      "%s\t% ('ind_plan_fin_ult1', 0.93630934495392215)\n",
      "%s\t% ('ind_pres_fin_ult1', 0.89592405843094536)\n",
      "%s\t% ('ind_reca_fin_ult1', 0.9036159076670065)\n",
      "%s\t% ('ind_tjcr_fin_ult1', 0.94197049916642772)\n",
      "%s\t% ('ind_valo_fin_ult1', 0.91367458551404834)\n",
      "%s\t% ('ind_viv_fin_ult1', 0.8872309004337996)\n",
      "%s\t% ('ind_nomina_ult1', 0.99962540950975376)\n",
      "%s\t% ('ind_nom_pens_ult1', 0.99921523338647944)\n",
      "%s\t% ('ind_recibo_ult1', 0.93782043679223859)\n"
     ]
    }
   ],
   "source": [
    "from sklearn.preprocessing import StandardScaler\n",
    "from sklearn.linear_model import LogisticRegression\n",
    "from sklearn.metrics import roc_auc_score\n",
    "from collections import defaultdict\n",
    "#from xgboost.sklearn import XGBModel\n",
    "\n",
    "res = defaultdict(list)\n",
    "\n",
    "features.fillna(0, inplace=True)\n",
    "for c in preds:\n",
    "    model = LogisticRegression()\n",
    "    ids = features['ncodpers'].astype(int).values\n",
    "    X = features.drop(['ncodpers', c], axis = 1).astype(float).values\n",
    "    y = features[c].astype(int).values\n",
    "    std = StandardScaler()\n",
    "    X = std.fit_transform(X)\n",
    "    model.fit(X, y)\n",
    "    y_proba = model.predict_proba(X)[:, 1]\n",
    "    for i in range(ids.shape[0]):\n",
    "        if y[i] == 0: res[ids[i]].append((c, y_proba[i]))\n",
    "    print(\"%s\\t%\", (c, roc_auc_score(y, y_proba)))"
   ]
  },
  {
   "cell_type": "code",
   "execution_count": 7,
   "metadata": {
    "collapsed": false
   },
   "outputs": [
    {
     "name": "stderr",
     "output_type": "stream",
     "text": [
      "/home/zyc/anaconda2/lib/python2.7/site-packages/IPython/core/interactiveshell.py:2717: DtypeWarning: Columns (15) have mixed types. Specify dtype option on import or set low_memory=False.\n",
      "  interactivity=interactivity, compiler=compiler, result=result)\n"
     ]
    }
   ],
   "source": [
    "import csv\n",
    "df_out = pd.read_csv('../input/test_ver2.csv')[['ncodpers']]\n",
    "ids = df_out.values.reshape(-1)\n",
    "\n",
    "added_products = []\n",
    "for d in ids:\n",
    "    if d in res: added_products.append(' '.join([x[0] for x in sorted(res[d], key=lambda obj: obj[1], reverse=True)[0: 7]]))\n",
    "    else: added_products.append(\"\")\n",
    "df_out['added_products'] = added_products\n",
    "df_out.to_csv('../output/out', index=False, quoting=csv.QUOTE_NONE)"
   ]
  },
  {
   "cell_type": "code",
   "execution_count": null,
   "metadata": {
    "collapsed": true
   },
   "outputs": [],
   "source": []
  }
 ],
 "metadata": {
  "anaconda-cloud": {},
  "kernelspec": {
   "display_name": "Python [conda root]",
   "language": "python",
   "name": "conda-root-py"
  },
  "language_info": {
   "codemirror_mode": {
    "name": "ipython",
    "version": 2
   },
   "file_extension": ".py",
   "mimetype": "text/x-python",
   "name": "python",
   "nbconvert_exporter": "python",
   "pygments_lexer": "ipython2",
   "version": "2.7.12"
  }
 },
 "nbformat": 4,
 "nbformat_minor": 1
}
